{
 "cells": [
  {
   "cell_type": "markdown",
   "id": "8a7176a7",
   "metadata": {},
   "source": [
    "# Introduction\n",
    "This titanic dataset is related to the most notorious shipwrecks in history. This well-known sinking killed 1,502 of the 2,214 passengers and crew. <br>\n",
    "[DataSet Link](https://www.kaggle.com/competitions/titanic/data)\n",
    "\n",
    "<br>\n",
    "<font color = 'blue' >\n",
    "Content:\n",
    "\n",
    "1. [Import Libraries](#1)    \n",
    "1. [Load and Check Data](#2)\n",
    "    * [Feature type change and droping](#3)\n",
    "1. [Variable Desciption](#4)\n",
    "    * [Univariate Variable Analysis](#5)\n",
    "        * [Categorical Variables](#6)\n",
    "        * [Numerical Variables](#7)\n",
    "1. [Otlier Detection](#8)\n",
    "1. [Missing Value](#9)\n",
    "    * [Find Missing Value](#10)\n",
    "    * [Fill Missing Value](#11)\n",
    "1. [Visulization](#12)\n",
    "    * [Correlation Between SipSb -- Parch -- Age -- Fare -- Survived](#13)\n",
    "    * [SibSp -- Survived](#14)\n",
    "    * [Parch -- Survived](#15)\n",
    "    * [Pclass -- Survived](#16)\n",
    "    * [Age -- Survived](#17)\n",
    "    * [Pclass -- Age -- Survived](#18)\n",
    "    * [Embarked -- Sex -- Pclass -- Survived](#19)\n",
    "    * [Embarked -- Sex -- Fare -- Survived](#20)\n",
    "    * [Fill Missing Value: Age Feature](#21)"
   ]
  },
  {
   "cell_type": "markdown",
   "id": "e586e38a",
   "metadata": {},
   "source": [
    "<a id = '1'></a>\n",
    "# 1. Importing Libraries"
   ]
  },
  {
   "cell_type": "code",
   "execution_count": 1,
   "id": "fc9d57e4",
   "metadata": {},
   "outputs": [],
   "source": [
    "import pandas as pd\n",
    "import numpy as np\n",
    "import seaborn as sns\n",
    "import scipy.stats\n",
    "\n",
    "import matplotlib.pyplot as plt\n",
    "plt.style.use(\"seaborn-whitegrid\")\n",
    "\n",
    "from collections import Counter\n",
    "from itertools import combinations\n",
    "\n",
    "import warnings\n",
    "warnings.filterwarnings(\"ignore\")"
   ]
  },
  {
   "cell_type": "markdown",
   "id": "0c9a9e82",
   "metadata": {},
   "source": [
    "<a id = '2'></a>\n",
    "# 2.  Load and Check Data"
   ]
  },
  {
   "cell_type": "code",
   "execution_count": 2,
   "id": "28bd7a17",
   "metadata": {},
   "outputs": [],
   "source": [
    "trainDf = pd.read_csv(\"train.csv\")\n",
    "testDf = pd.read_csv(\"test.csv\")\n",
    "genderSubDf = pd.read_csv(\"gender_submission.csv\")\n",
    "testPassengerIdDf = testDf[\"PassengerId\"]"
   ]
  },
  {
   "cell_type": "code",
   "execution_count": 3,
   "id": "f9e877a4",
   "metadata": {},
   "outputs": [
    {
     "data": {
      "text/plain": [
       "Index(['PassengerId', 'Survived', 'Pclass', 'Name', 'Sex', 'Age', 'SibSp',\n",
       "       'Parch', 'Ticket', 'Fare', 'Cabin', 'Embarked'],\n",
       "      dtype='object')"
      ]
     },
     "execution_count": 3,
     "metadata": {},
     "output_type": "execute_result"
    }
   ],
   "source": [
    "trainDf.columns"
   ]
  },
  {
   "cell_type": "code",
   "execution_count": 4,
   "id": "e2311321",
   "metadata": {},
   "outputs": [
    {
     "data": {
      "text/html": [
       "<div>\n",
       "<style scoped>\n",
       "    .dataframe tbody tr th:only-of-type {\n",
       "        vertical-align: middle;\n",
       "    }\n",
       "\n",
       "    .dataframe tbody tr th {\n",
       "        vertical-align: top;\n",
       "    }\n",
       "\n",
       "    .dataframe thead th {\n",
       "        text-align: right;\n",
       "    }\n",
       "</style>\n",
       "<table border=\"1\" class=\"dataframe\">\n",
       "  <thead>\n",
       "    <tr style=\"text-align: right;\">\n",
       "      <th></th>\n",
       "      <th>PassengerId</th>\n",
       "      <th>Survived</th>\n",
       "      <th>Pclass</th>\n",
       "      <th>Name</th>\n",
       "      <th>Sex</th>\n",
       "      <th>Age</th>\n",
       "      <th>SibSp</th>\n",
       "      <th>Parch</th>\n",
       "      <th>Ticket</th>\n",
       "      <th>Fare</th>\n",
       "      <th>Cabin</th>\n",
       "      <th>Embarked</th>\n",
       "    </tr>\n",
       "  </thead>\n",
       "  <tbody>\n",
       "    <tr>\n",
       "      <th>0</th>\n",
       "      <td>1</td>\n",
       "      <td>0</td>\n",
       "      <td>3</td>\n",
       "      <td>Braund, Mr. Owen Harris</td>\n",
       "      <td>male</td>\n",
       "      <td>22.0</td>\n",
       "      <td>1</td>\n",
       "      <td>0</td>\n",
       "      <td>A/5 21171</td>\n",
       "      <td>7.2500</td>\n",
       "      <td>NaN</td>\n",
       "      <td>S</td>\n",
       "    </tr>\n",
       "    <tr>\n",
       "      <th>1</th>\n",
       "      <td>2</td>\n",
       "      <td>1</td>\n",
       "      <td>1</td>\n",
       "      <td>Cumings, Mrs. John Bradley (Florence Briggs Th...</td>\n",
       "      <td>female</td>\n",
       "      <td>38.0</td>\n",
       "      <td>1</td>\n",
       "      <td>0</td>\n",
       "      <td>PC 17599</td>\n",
       "      <td>71.2833</td>\n",
       "      <td>C85</td>\n",
       "      <td>C</td>\n",
       "    </tr>\n",
       "    <tr>\n",
       "      <th>2</th>\n",
       "      <td>3</td>\n",
       "      <td>1</td>\n",
       "      <td>3</td>\n",
       "      <td>Heikkinen, Miss. Laina</td>\n",
       "      <td>female</td>\n",
       "      <td>26.0</td>\n",
       "      <td>0</td>\n",
       "      <td>0</td>\n",
       "      <td>STON/O2. 3101282</td>\n",
       "      <td>7.9250</td>\n",
       "      <td>NaN</td>\n",
       "      <td>S</td>\n",
       "    </tr>\n",
       "    <tr>\n",
       "      <th>3</th>\n",
       "      <td>4</td>\n",
       "      <td>1</td>\n",
       "      <td>1</td>\n",
       "      <td>Futrelle, Mrs. Jacques Heath (Lily May Peel)</td>\n",
       "      <td>female</td>\n",
       "      <td>35.0</td>\n",
       "      <td>1</td>\n",
       "      <td>0</td>\n",
       "      <td>113803</td>\n",
       "      <td>53.1000</td>\n",
       "      <td>C123</td>\n",
       "      <td>S</td>\n",
       "    </tr>\n",
       "    <tr>\n",
       "      <th>4</th>\n",
       "      <td>5</td>\n",
       "      <td>0</td>\n",
       "      <td>3</td>\n",
       "      <td>Allen, Mr. William Henry</td>\n",
       "      <td>male</td>\n",
       "      <td>35.0</td>\n",
       "      <td>0</td>\n",
       "      <td>0</td>\n",
       "      <td>373450</td>\n",
       "      <td>8.0500</td>\n",
       "      <td>NaN</td>\n",
       "      <td>S</td>\n",
       "    </tr>\n",
       "  </tbody>\n",
       "</table>\n",
       "</div>"
      ],
      "text/plain": [
       "   PassengerId  Survived  Pclass  \\\n",
       "0            1         0       3   \n",
       "1            2         1       1   \n",
       "2            3         1       3   \n",
       "3            4         1       1   \n",
       "4            5         0       3   \n",
       "\n",
       "                                                Name     Sex   Age  SibSp  \\\n",
       "0                            Braund, Mr. Owen Harris    male  22.0      1   \n",
       "1  Cumings, Mrs. John Bradley (Florence Briggs Th...  female  38.0      1   \n",
       "2                             Heikkinen, Miss. Laina  female  26.0      0   \n",
       "3       Futrelle, Mrs. Jacques Heath (Lily May Peel)  female  35.0      1   \n",
       "4                           Allen, Mr. William Henry    male  35.0      0   \n",
       "\n",
       "   Parch            Ticket     Fare Cabin Embarked  \n",
       "0      0         A/5 21171   7.2500   NaN        S  \n",
       "1      0          PC 17599  71.2833   C85        C  \n",
       "2      0  STON/O2. 3101282   7.9250   NaN        S  \n",
       "3      0            113803  53.1000  C123        S  \n",
       "4      0            373450   8.0500   NaN        S  "
      ]
     },
     "execution_count": 4,
     "metadata": {},
     "output_type": "execute_result"
    }
   ],
   "source": [
    "trainDf.head()"
   ]
  },
  {
   "cell_type": "code",
   "execution_count": 5,
   "id": "f6374e43",
   "metadata": {
    "scrolled": true
   },
   "outputs": [
    {
     "data": {
      "text/html": [
       "<div>\n",
       "<style scoped>\n",
       "    .dataframe tbody tr th:only-of-type {\n",
       "        vertical-align: middle;\n",
       "    }\n",
       "\n",
       "    .dataframe tbody tr th {\n",
       "        vertical-align: top;\n",
       "    }\n",
       "\n",
       "    .dataframe thead th {\n",
       "        text-align: right;\n",
       "    }\n",
       "</style>\n",
       "<table border=\"1\" class=\"dataframe\">\n",
       "  <thead>\n",
       "    <tr style=\"text-align: right;\">\n",
       "      <th></th>\n",
       "      <th>PassengerId</th>\n",
       "      <th>Survived</th>\n",
       "      <th>Pclass</th>\n",
       "      <th>Age</th>\n",
       "      <th>SibSp</th>\n",
       "      <th>Parch</th>\n",
       "      <th>Fare</th>\n",
       "    </tr>\n",
       "  </thead>\n",
       "  <tbody>\n",
       "    <tr>\n",
       "      <th>count</th>\n",
       "      <td>891.000000</td>\n",
       "      <td>891.000000</td>\n",
       "      <td>891.000000</td>\n",
       "      <td>714.000000</td>\n",
       "      <td>891.000000</td>\n",
       "      <td>891.000000</td>\n",
       "      <td>891.000000</td>\n",
       "    </tr>\n",
       "    <tr>\n",
       "      <th>mean</th>\n",
       "      <td>446.000000</td>\n",
       "      <td>0.383838</td>\n",
       "      <td>2.308642</td>\n",
       "      <td>29.699118</td>\n",
       "      <td>0.523008</td>\n",
       "      <td>0.381594</td>\n",
       "      <td>32.204208</td>\n",
       "    </tr>\n",
       "    <tr>\n",
       "      <th>std</th>\n",
       "      <td>257.353842</td>\n",
       "      <td>0.486592</td>\n",
       "      <td>0.836071</td>\n",
       "      <td>14.526497</td>\n",
       "      <td>1.102743</td>\n",
       "      <td>0.806057</td>\n",
       "      <td>49.693429</td>\n",
       "    </tr>\n",
       "    <tr>\n",
       "      <th>min</th>\n",
       "      <td>1.000000</td>\n",
       "      <td>0.000000</td>\n",
       "      <td>1.000000</td>\n",
       "      <td>0.420000</td>\n",
       "      <td>0.000000</td>\n",
       "      <td>0.000000</td>\n",
       "      <td>0.000000</td>\n",
       "    </tr>\n",
       "    <tr>\n",
       "      <th>25%</th>\n",
       "      <td>223.500000</td>\n",
       "      <td>0.000000</td>\n",
       "      <td>2.000000</td>\n",
       "      <td>20.125000</td>\n",
       "      <td>0.000000</td>\n",
       "      <td>0.000000</td>\n",
       "      <td>7.910400</td>\n",
       "    </tr>\n",
       "    <tr>\n",
       "      <th>50%</th>\n",
       "      <td>446.000000</td>\n",
       "      <td>0.000000</td>\n",
       "      <td>3.000000</td>\n",
       "      <td>28.000000</td>\n",
       "      <td>0.000000</td>\n",
       "      <td>0.000000</td>\n",
       "      <td>14.454200</td>\n",
       "    </tr>\n",
       "    <tr>\n",
       "      <th>75%</th>\n",
       "      <td>668.500000</td>\n",
       "      <td>1.000000</td>\n",
       "      <td>3.000000</td>\n",
       "      <td>38.000000</td>\n",
       "      <td>1.000000</td>\n",
       "      <td>0.000000</td>\n",
       "      <td>31.000000</td>\n",
       "    </tr>\n",
       "    <tr>\n",
       "      <th>max</th>\n",
       "      <td>891.000000</td>\n",
       "      <td>1.000000</td>\n",
       "      <td>3.000000</td>\n",
       "      <td>80.000000</td>\n",
       "      <td>8.000000</td>\n",
       "      <td>6.000000</td>\n",
       "      <td>512.329200</td>\n",
       "    </tr>\n",
       "  </tbody>\n",
       "</table>\n",
       "</div>"
      ],
      "text/plain": [
       "       PassengerId    Survived      Pclass         Age       SibSp  \\\n",
       "count   891.000000  891.000000  891.000000  714.000000  891.000000   \n",
       "mean    446.000000    0.383838    2.308642   29.699118    0.523008   \n",
       "std     257.353842    0.486592    0.836071   14.526497    1.102743   \n",
       "min       1.000000    0.000000    1.000000    0.420000    0.000000   \n",
       "25%     223.500000    0.000000    2.000000   20.125000    0.000000   \n",
       "50%     446.000000    0.000000    3.000000   28.000000    0.000000   \n",
       "75%     668.500000    1.000000    3.000000   38.000000    1.000000   \n",
       "max     891.000000    1.000000    3.000000   80.000000    8.000000   \n",
       "\n",
       "            Parch        Fare  \n",
       "count  891.000000  891.000000  \n",
       "mean     0.381594   32.204208  \n",
       "std      0.806057   49.693429  \n",
       "min      0.000000    0.000000  \n",
       "25%      0.000000    7.910400  \n",
       "50%      0.000000   14.454200  \n",
       "75%      0.000000   31.000000  \n",
       "max      6.000000  512.329200  "
      ]
     },
     "execution_count": 5,
     "metadata": {},
     "output_type": "execute_result"
    }
   ],
   "source": [
    "trainDf.describe()"
   ]
  },
  {
   "cell_type": "markdown",
   "id": "a7273da8",
   "metadata": {},
   "source": [
    "<a id='4'></a>\n",
    "### 4.Feature type change and droping"
   ]
  },
  {
   "cell_type": "code",
   "execution_count": 6,
   "id": "d1c9dd2f",
   "metadata": {},
   "outputs": [],
   "source": [
    "trainDf = trainDf.astype({\"Parch\":'object'})"
   ]
  },
  {
   "cell_type": "code",
   "execution_count": 7,
   "id": "a841844a",
   "metadata": {},
   "outputs": [],
   "source": [
    "trainDf.drop(\"Cabin\", axis=1, inplace=True)"
   ]
  },
  {
   "cell_type": "code",
   "execution_count": 8,
   "id": "94f8a9cc",
   "metadata": {},
   "outputs": [],
   "source": [
    "testDf.drop(\"Cabin\", axis=1, inplace=True)"
   ]
  },
  {
   "cell_type": "code",
   "execution_count": 9,
   "id": "b3f9cb4c",
   "metadata": {},
   "outputs": [],
   "source": [
    "trainDf[\"Survived\"].replace({0:\"No\",1:\"Yes\"}, inplace=True)"
   ]
  },
  {
   "cell_type": "code",
   "execution_count": 10,
   "id": "f0108e74",
   "metadata": {},
   "outputs": [],
   "source": [
    "trainDf[\"Pclass\"].replace({1:\"1st\",2:\"2nd\",3:\"3rd\"}, inplace=True)"
   ]
  },
  {
   "cell_type": "code",
   "execution_count": 11,
   "id": "e549c7f3",
   "metadata": {},
   "outputs": [],
   "source": [
    "trainDf[\"SibSp\"].replace({0:\"0 Sib\",1:\"1 Sib\",2:\"2 Sib\",3:\"3 Sib\",4:\"4 Sib\",5:\"5 Sib\",8:\"8 Sib\"}, inplace=True)"
   ]
  },
  {
   "cell_type": "markdown",
   "id": "9be4855c",
   "metadata": {},
   "source": [
    "<a id='4'></a>\n",
    "# 4. Variable Desciption"
   ]
  },
  {
   "cell_type": "code",
   "execution_count": 12,
   "id": "a2afbc48",
   "metadata": {},
   "outputs": [
    {
     "name": "stdout",
     "output_type": "stream",
     "text": [
      "\t\t\t\t\tTITANIC'S VARIABLES AND EXPLANATION\n",
      "\n",
      "Variable\tDefinition\tKey\n",
      "survival\tSurvival\t0 = No, 1 = Yes\n",
      "pclass\t\tTicket class\t1 = 1st, 2 = 2nd, 3 = 3rd\n",
      "sex\t\tSex\t\n",
      "Age\t\tAge in years\t\n",
      "sibsp\t\t# of siblings / spouses aboard the Titanic\t\n",
      "parch\t\t# of parents / children aboard the Titanic\t\n",
      "ticket\t\tTicket number\t\n",
      "fare\t\tPassenger fare\t\n",
      "cabin\t\tCabin number\t\n",
      "embarked\tPort of Embarkation\tC = Cherbourg, Q = Queenstown, S = Southampton\n",
      "\n",
      "\n",
      "pclass: A proxy for socio-economic status (SES)\n",
      "1st = Upper\n",
      "2nd = Middle\n",
      "3rd = Lower\n",
      "\n",
      "age: Age is fractional if less than 1. If the age is estimated, is it in the form of xx.5\n",
      "\n",
      "sibsp: The dataset defines family relations in this way...\n",
      "Sibling = brother, sister, stepbrother, stepsister\n",
      "Spouse = husband, wife (mistresses and fiancÃ©s were ignored)\n",
      "\n",
      "parch: The dataset defines family relations in this way...\n",
      "Parent = mother, father\n",
      "Child = daughter, son, stepdaughter, stepson\n",
      "Some children travelled only with a nanny, therefore parch=0 for them."
     ]
    }
   ],
   "source": [
    "with open(\"Titanic.txt\",\"r\") as f:\n",
    "    for line in f:\n",
    "        print(line, end=\"\")"
   ]
  },
  {
   "cell_type": "code",
   "execution_count": 13,
   "id": "11520e43",
   "metadata": {
    "scrolled": true
   },
   "outputs": [
    {
     "name": "stdout",
     "output_type": "stream",
     "text": [
      "<class 'pandas.core.frame.DataFrame'>\n",
      "RangeIndex: 891 entries, 0 to 890\n",
      "Data columns (total 11 columns):\n",
      " #   Column       Non-Null Count  Dtype  \n",
      "---  ------       --------------  -----  \n",
      " 0   PassengerId  891 non-null    int64  \n",
      " 1   Survived     891 non-null    object \n",
      " 2   Pclass       891 non-null    object \n",
      " 3   Name         891 non-null    object \n",
      " 4   Sex          891 non-null    object \n",
      " 5   Age          714 non-null    float64\n",
      " 6   SibSp        891 non-null    object \n",
      " 7   Parch        891 non-null    object \n",
      " 8   Ticket       891 non-null    object \n",
      " 9   Fare         891 non-null    float64\n",
      " 10  Embarked     889 non-null    object \n",
      "dtypes: float64(2), int64(1), object(8)\n",
      "memory usage: 76.7+ KB\n"
     ]
    }
   ],
   "source": [
    "trainDf.info()"
   ]
  },
  {
   "cell_type": "markdown",
   "id": "ba5174df",
   "metadata": {},
   "source": [
    "<table>\n",
    "  <tr>\n",
    "    <th>int64</th>\n",
    "    <th>object</th>\n",
    "    <th>float64</th>\n",
    "  </tr>\n",
    "  <tr>\n",
    "    <td>PassengerId</td>\n",
    "    <td>Name</td>\n",
    "    <td>Age</td>\n",
    "  </tr>\n",
    "  <tr>\n",
    "    <td>Survived</td>\n",
    "    <td>Sex</td>\n",
    "    <td>Fare</td>\n",
    "  </tr>\n",
    "   <tr>\n",
    "    <td>Pclass</td>\n",
    "    <td>Ticket</td>\n",
    "  </tr>\n",
    "   <tr>\n",
    "    <td>SibSp</td>\n",
    "    <td>Cabin</td>\n",
    "  </tr>\n",
    "  <tr>\n",
    "    <td>Parch</td>\n",
    "    <td>Embarked</td>\n",
    "  </tr>\n",
    "</table>"
   ]
  },
  {
   "cell_type": "markdown",
   "id": "be9cac7c",
   "metadata": {},
   "source": [
    "<a id= '5'></a>\n",
    "## 5. Univariate Variable Analysis"
   ]
  },
  {
   "cell_type": "code",
   "execution_count": 14,
   "id": "521c899d",
   "metadata": {},
   "outputs": [],
   "source": [
    "numerical_features = [i for i in trainDf.columns if trainDf[i].dtype !='O']\n",
    "categorical_features = [i for i in trainDf.columns if trainDf[i].dtype =='O']"
   ]
  },
  {
   "cell_type": "markdown",
   "id": "1f3c8056",
   "metadata": {},
   "source": [
    "<a id='6'></a>\n",
    "### 6. Categorical Variables"
   ]
  },
  {
   "cell_type": "code",
   "execution_count": 15,
   "id": "a1b8e771",
   "metadata": {},
   "outputs": [
    {
     "data": {
      "text/plain": [
       "['Survived', 'Pclass', 'Name', 'Sex', 'SibSp', 'Parch', 'Ticket', 'Embarked']"
      ]
     },
     "execution_count": 15,
     "metadata": {},
     "output_type": "execute_result"
    }
   ],
   "source": [
    "categorical_features"
   ]
  },
  {
   "cell_type": "code",
   "execution_count": 16,
   "id": "ec3fae8d",
   "metadata": {},
   "outputs": [],
   "source": [
    "def bar_plot(variable):\n",
    "    \"\"\"\n",
    "        input: variable eg: \"sex\"\n",
    "        output: barplot & count value\n",
    "        \n",
    "    \"\"\"\n",
    "    # Taking feature\n",
    "    var = trainDf[variable]\n",
    "    # count number of categorical variable\n",
    "    varValue = var.value_counts()\n",
    "    \n",
    "    # visualize\n",
    "    plt.figure(figsize=(9,3))\n",
    "    plt.bar(varValue.index, varValue)\n",
    "    plt.xticks(varValue.index, varValue.index.values)\n",
    "    plt.ylabel(\"Frequency\")\n",
    "    plt.title(variable)\n",
    "    plt.show()\n",
    "    print(\"{}: \\n {} \".format(variable,varValue))\n",
    "    "
   ]
  },
  {
   "cell_type": "code",
   "execution_count": 17,
   "id": "c562d761",
   "metadata": {},
   "outputs": [
    {
     "data": {
      "image/png": "[encoded data removed]",
      "text/plain": [
       "<Figure size 648x216 with 1 Axes>"
      ]
     },
     "metadata": {},
     "output_type": "display_data"
    },
    {
     "name": "stdout",
     "output_type": "stream",
     "text": [
      "Survived: \n",
      " No     549\n",
      "Yes    342\n",
      "Name: Survived, dtype: int64 \n"
     ]
    },
    {
     "data": {
      "image/png": "[encoded data removed]",
      "text/plain": [
       "<Figure size 648x216 with 1 Axes>"
      ]
     },
     "metadata": {},
     "output_type": "display_data"
    },
    {
     "name": "stdout",
     "output_type": "stream",
     "text": [
      "Pclass: \n",
      " 3rd    491\n",
      "1st    216\n",
      "2nd    184\n",
      "Name: Pclass, dtype: int64 \n"
     ]
    },
    {
     "data": {
      "image/png": "[encoded data removed]",
      "text/plain": [
       "<Figure size 648x216 with 1 Axes>"
      ]
     },
     "metadata": {},
     "output_type": "display_data"
    },
    {
     "name": "stdout",
     "output_type": "stream",
     "text": [
      "Name: \n",
      " Braund, Mr. Owen Harris                     1\n",
      "Boulos, Mr. Hanna                           1\n",
      "Frolicher-Stehli, Mr. Maxmillian            1\n",
      "Gilinski, Mr. Eliezer                       1\n",
      "Murdlin, Mr. Joseph                         1\n",
      "                                           ..\n",
      "Kelly, Miss. Anna Katherine \"Annie Kate\"    1\n",
      "McCoy, Mr. Bernard                          1\n",
      "Johnson, Mr. William Cahoone Jr             1\n",
      "Keane, Miss. Nora A                         1\n",
      "Dooley, Mr. Patrick                         1\n",
      "Name: Name, Length: 891, dtype: int64 \n"
     ]
    },
    {
     "data": {
      "image/png": "[encoded data removed]",
      "text/plain": [
       "<Figure size 648x216 with 1 Axes>"
      ]
     },
     "metadata": {},
     "output_type": "display_data"
    },
    {
     "name": "stdout",
     "output_type": "stream",
     "text": [
      "Sex: \n",
      " male      577\n",
      "female    314\n",
      "Name: Sex, dtype: int64 \n"
     ]
    },
    {
     "data": {
      "image/png": "[encoded data removed]",
      "text/plain": [
       "<Figure size 648x216 with 1 Axes>"
      ]
     },
     "metadata": {},
     "output_type": "display_data"
    },
    {
     "name": "stdout",
     "output_type": "stream",
     "text": [
      "SibSp: \n",
      " 0 Sib    608\n",
      "1 Sib    209\n",
      "2 Sib     28\n",
      "4 Sib     18\n",
      "3 Sib     16\n",
      "8 Sib      7\n",
      "5 Sib      5\n",
      "Name: SibSp, dtype: int64 \n"
     ]
    },
    {
     "data": {
      "image/png": "[encoded data removed]",
      "text/plain": [
       "<Figure size 648x216 with 1 Axes>"
      ]
     },
     "metadata": {},
     "output_type": "display_data"
    },
    {
     "name": "stdout",
     "output_type": "stream",
     "text": [
      "Parch: \n",
      " 0    678\n",
      "1    118\n",
      "2     80\n",
      "5      5\n",
      "3      5\n",
      "4      4\n",
      "6      1\n",
      "Name: Parch, dtype: int64 \n"
     ]
    },
    {
     "data": {
      "image/png": "[encoded data removed]",
      "text/plain": [
       "<Figure size 648x216 with 1 Axes>"
      ]
     },
     "metadata": {},
     "output_type": "display_data"
    },
    {
     "name": "stdout",
     "output_type": "stream",
     "text": [
      "Ticket: \n",
      " 347082      7\n",
      "CA. 2343    7\n",
      "1601        7\n",
      "3101295     6\n",
      "CA 2144     6\n",
      "           ..\n",
      "9234        1\n",
      "19988       1\n",
      "2693        1\n",
      "PC 17612    1\n",
      "370376      1\n",
      "Name: Ticket, Length: 681, dtype: int64 \n"
     ]
    },
    {
     "data": {
      "image/png": "[encoded data removed]",
      "text/plain": [
       "<Figure size 648x216 with 1 Axes>"
      ]
     },
     "metadata": {},
     "output_type": "display_data"
    },
    {
     "name": "stdout",
     "output_type": "stream",
     "text": [
      "Embarked: \n",
      " S    644\n",
      "C    168\n",
      "Q     77\n",
      "Name: Embarked, dtype: int64 \n"
     ]
    }
   ],
   "source": [
    "for i in categorical_features:\n",
    "    bar_plot(i)"
   ]
  },
  {
   "cell_type": "markdown",
   "id": "4fd68786",
   "metadata": {},
   "source": [
    "<a id='7'></a>\n",
    "### 7. Numerical Variables"
   ]
  },
  {
   "cell_type": "code",
   "execution_count": 18,
   "id": "5e100eb0",
   "metadata": {},
   "outputs": [
    {
     "data": {
      "text/plain": [
       "['PassengerId', 'Age', 'Fare']"
      ]
     },
     "execution_count": 18,
     "metadata": {},
     "output_type": "execute_result"
    }
   ],
   "source": [
    "numerical_features"
   ]
  },
  {
   "cell_type": "code",
   "execution_count": 19,
   "id": "d1eebc36",
   "metadata": {},
   "outputs": [],
   "source": [
    "def plot_hist(variable):\n",
    "    plt.figure(figsize=(9,3))\n",
    "    plt.hist(trainDf[variable], bins=50)\n",
    "    plt.xlabel(variable)\n",
    "    plt.ylabel(\"Frequncy\")\n",
    "    plt.title(\"{} distrubution with hist\".format(variable))\n",
    "    plt.show()"
   ]
  },
  {
   "cell_type": "code",
   "execution_count": 20,
   "id": "1919318b",
   "metadata": {
    "scrolled": false
   },
   "outputs": [
    {
     "data": {
      "image/png": "[encoded data removed]",
      "text/plain": [
       "<Figure size 648x216 with 1 Axes>"
      ]
     },
     "metadata": {},
     "output_type": "display_data"
    },
    {
     "data": {
      "image/png": "[encoded data removed]",
      "text/plain": [
       "<Figure size 648x216 with 1 Axes>"
      ]
     },
     "metadata": {},
     "output_type": "display_data"
    },
    {
     "data": {
      "image/png": "[encoded data removed]",
      "text/plain": [
       "<Figure size 648x216 with 1 Axes>"
      ]
     },
     "metadata": {},
     "output_type": "display_data"
    }
   ],
   "source": [
    "for i in numerical_features:\n",
    "    plot_hist(i)"
   ]
  },
  {
   "cell_type": "markdown",
   "id": "d4c1ea28",
   "metadata": {},
   "source": [
    "# Comment:\n",
    "1. The price of 500 unit is shown in the chart. Maybe someone made a lump sum payment for their group.\n",
    "2. The age range is mostly between 20 and 40 years old."
   ]
  },
  {
   "cell_type": "markdown",
   "id": "4d38f76a",
   "metadata": {},
   "source": [
    "<a id='8'></a>\n",
    "# 8. Outlier Detection"
   ]
  },
  {
   "cell_type": "code",
   "execution_count": 21,
   "id": "65e24e8e",
   "metadata": {},
   "outputs": [],
   "source": [
    "trainDf[\"SibSp\"].replace({\"0 Sib\":0,\"1 Sib\":1,\"2 Sib\":2,\"3 Sib\":3,\"4 Sib\":4,\"5 Sib\":5,\"8 Sib\":8}, inplace=True)"
   ]
  },
  {
   "cell_type": "code",
   "execution_count": 22,
   "id": "584bf058",
   "metadata": {},
   "outputs": [],
   "source": [
    "def detect_outlier(df,feature):\n",
    "    outlierIndices = []\n",
    "    \n",
    "    for c in feature:\n",
    "        # First Quartile\n",
    "        Q1 = np.percentile(df[c],25)\n",
    "        \n",
    "        # Third Quartile\n",
    "        Q3 = np.percentile(df[c],75)\n",
    "        \n",
    "        # IQR\n",
    "        IQR = Q3 - Q1\n",
    "        \n",
    "        # Outlier step\n",
    "        outlier_step = IQR * 1.5\n",
    "        \n",
    "        # Detect outlier and thier indices\n",
    "        outlier_list_col = df[(df[c]< Q1 - outlier_step) | (df[c]> Q3 + outlier_step)].index\n",
    "        \n",
    "        # Store indices\n",
    "        outlierIndices.extend(outlier_list_col)\n",
    "    outlierIndices = Counter(outlierIndices)\n",
    "    multuple_outliers = list(i for i,v in outlierIndices.items() if v > 2)\n",
    "    \n",
    "    return multuple_outliers"
   ]
  },
  {
   "cell_type": "code",
   "execution_count": 23,
   "id": "9627557a",
   "metadata": {},
   "outputs": [
    {
     "data": {
      "text/html": [
       "<div>\n",
       "<style scoped>\n",
       "    .dataframe tbody tr th:only-of-type {\n",
       "        vertical-align: middle;\n",
       "    }\n",
       "\n",
       "    .dataframe tbody tr th {\n",
       "        vertical-align: top;\n",
       "    }\n",
       "\n",
       "    .dataframe thead th {\n",
       "        text-align: right;\n",
       "    }\n",
       "</style>\n",
       "<table border=\"1\" class=\"dataframe\">\n",
       "  <thead>\n",
       "    <tr style=\"text-align: right;\">\n",
       "      <th></th>\n",
       "      <th>PassengerId</th>\n",
       "      <th>Survived</th>\n",
       "      <th>Pclass</th>\n",
       "      <th>Name</th>\n",
       "      <th>Sex</th>\n",
       "      <th>Age</th>\n",
       "      <th>SibSp</th>\n",
       "      <th>Parch</th>\n",
       "      <th>Ticket</th>\n",
       "      <th>Fare</th>\n",
       "      <th>Embarked</th>\n",
       "    </tr>\n",
       "  </thead>\n",
       "  <tbody>\n",
       "    <tr>\n",
       "      <th>27</th>\n",
       "      <td>28</td>\n",
       "      <td>No</td>\n",
       "      <td>1st</td>\n",
       "      <td>Fortune, Mr. Charles Alexander</td>\n",
       "      <td>male</td>\n",
       "      <td>19.0</td>\n",
       "      <td>3</td>\n",
       "      <td>2</td>\n",
       "      <td>19950</td>\n",
       "      <td>263.00</td>\n",
       "      <td>S</td>\n",
       "    </tr>\n",
       "    <tr>\n",
       "      <th>88</th>\n",
       "      <td>89</td>\n",
       "      <td>Yes</td>\n",
       "      <td>1st</td>\n",
       "      <td>Fortune, Miss. Mabel Helen</td>\n",
       "      <td>female</td>\n",
       "      <td>23.0</td>\n",
       "      <td>3</td>\n",
       "      <td>2</td>\n",
       "      <td>19950</td>\n",
       "      <td>263.00</td>\n",
       "      <td>S</td>\n",
       "    </tr>\n",
       "    <tr>\n",
       "      <th>159</th>\n",
       "      <td>160</td>\n",
       "      <td>No</td>\n",
       "      <td>3rd</td>\n",
       "      <td>Sage, Master. Thomas Henry</td>\n",
       "      <td>male</td>\n",
       "      <td>NaN</td>\n",
       "      <td>8</td>\n",
       "      <td>2</td>\n",
       "      <td>CA. 2343</td>\n",
       "      <td>69.55</td>\n",
       "      <td>S</td>\n",
       "    </tr>\n",
       "    <tr>\n",
       "      <th>180</th>\n",
       "      <td>181</td>\n",
       "      <td>No</td>\n",
       "      <td>3rd</td>\n",
       "      <td>Sage, Miss. Constance Gladys</td>\n",
       "      <td>female</td>\n",
       "      <td>NaN</td>\n",
       "      <td>8</td>\n",
       "      <td>2</td>\n",
       "      <td>CA. 2343</td>\n",
       "      <td>69.55</td>\n",
       "      <td>S</td>\n",
       "    </tr>\n",
       "    <tr>\n",
       "      <th>201</th>\n",
       "      <td>202</td>\n",
       "      <td>No</td>\n",
       "      <td>3rd</td>\n",
       "      <td>Sage, Mr. Frederick</td>\n",
       "      <td>male</td>\n",
       "      <td>NaN</td>\n",
       "      <td>8</td>\n",
       "      <td>2</td>\n",
       "      <td>CA. 2343</td>\n",
       "      <td>69.55</td>\n",
       "      <td>S</td>\n",
       "    </tr>\n",
       "    <tr>\n",
       "      <th>324</th>\n",
       "      <td>325</td>\n",
       "      <td>No</td>\n",
       "      <td>3rd</td>\n",
       "      <td>Sage, Mr. George John Jr</td>\n",
       "      <td>male</td>\n",
       "      <td>NaN</td>\n",
       "      <td>8</td>\n",
       "      <td>2</td>\n",
       "      <td>CA. 2343</td>\n",
       "      <td>69.55</td>\n",
       "      <td>S</td>\n",
       "    </tr>\n",
       "    <tr>\n",
       "      <th>341</th>\n",
       "      <td>342</td>\n",
       "      <td>Yes</td>\n",
       "      <td>1st</td>\n",
       "      <td>Fortune, Miss. Alice Elizabeth</td>\n",
       "      <td>female</td>\n",
       "      <td>24.0</td>\n",
       "      <td>3</td>\n",
       "      <td>2</td>\n",
       "      <td>19950</td>\n",
       "      <td>263.00</td>\n",
       "      <td>S</td>\n",
       "    </tr>\n",
       "    <tr>\n",
       "      <th>792</th>\n",
       "      <td>793</td>\n",
       "      <td>No</td>\n",
       "      <td>3rd</td>\n",
       "      <td>Sage, Miss. Stella Anna</td>\n",
       "      <td>female</td>\n",
       "      <td>NaN</td>\n",
       "      <td>8</td>\n",
       "      <td>2</td>\n",
       "      <td>CA. 2343</td>\n",
       "      <td>69.55</td>\n",
       "      <td>S</td>\n",
       "    </tr>\n",
       "    <tr>\n",
       "      <th>846</th>\n",
       "      <td>847</td>\n",
       "      <td>No</td>\n",
       "      <td>3rd</td>\n",
       "      <td>Sage, Mr. Douglas Bullen</td>\n",
       "      <td>male</td>\n",
       "      <td>NaN</td>\n",
       "      <td>8</td>\n",
       "      <td>2</td>\n",
       "      <td>CA. 2343</td>\n",
       "      <td>69.55</td>\n",
       "      <td>S</td>\n",
       "    </tr>\n",
       "    <tr>\n",
       "      <th>863</th>\n",
       "      <td>864</td>\n",
       "      <td>No</td>\n",
       "      <td>3rd</td>\n",
       "      <td>Sage, Miss. Dorothy Edith \"Dolly\"</td>\n",
       "      <td>female</td>\n",
       "      <td>NaN</td>\n",
       "      <td>8</td>\n",
       "      <td>2</td>\n",
       "      <td>CA. 2343</td>\n",
       "      <td>69.55</td>\n",
       "      <td>S</td>\n",
       "    </tr>\n",
       "  </tbody>\n",
       "</table>\n",
       "</div>"
      ],
      "text/plain": [
       "     PassengerId Survived Pclass                               Name     Sex  \\\n",
       "27            28       No    1st     Fortune, Mr. Charles Alexander    male   \n",
       "88            89      Yes    1st         Fortune, Miss. Mabel Helen  female   \n",
       "159          160       No    3rd         Sage, Master. Thomas Henry    male   \n",
       "180          181       No    3rd       Sage, Miss. Constance Gladys  female   \n",
       "201          202       No    3rd                Sage, Mr. Frederick    male   \n",
       "324          325       No    3rd           Sage, Mr. George John Jr    male   \n",
       "341          342      Yes    1st     Fortune, Miss. Alice Elizabeth  female   \n",
       "792          793       No    3rd            Sage, Miss. Stella Anna  female   \n",
       "846          847       No    3rd           Sage, Mr. Douglas Bullen    male   \n",
       "863          864       No    3rd  Sage, Miss. Dorothy Edith \"Dolly\"  female   \n",
       "\n",
       "      Age  SibSp Parch    Ticket    Fare Embarked  \n",
       "27   19.0      3     2     19950  263.00        S  \n",
       "88   23.0      3     2     19950  263.00        S  \n",
       "159   NaN      8     2  CA. 2343   69.55        S  \n",
       "180   NaN      8     2  CA. 2343   69.55        S  \n",
       "201   NaN      8     2  CA. 2343   69.55        S  \n",
       "324   NaN      8     2  CA. 2343   69.55        S  \n",
       "341  24.0      3     2     19950  263.00        S  \n",
       "792   NaN      8     2  CA. 2343   69.55        S  \n",
       "846   NaN      8     2  CA. 2343   69.55        S  \n",
       "863   NaN      8     2  CA. 2343   69.55        S  "
      ]
     },
     "execution_count": 23,
     "metadata": {},
     "output_type": "execute_result"
    }
   ],
   "source": [
    "trainDf.loc[detect_outlier(trainDf, [\"SibSp\", \"Age\",\"Fare\",\"Parch\"])]"
   ]
  },
  {
   "cell_type": "code",
   "execution_count": 24,
   "id": "d2ddf591",
   "metadata": {},
   "outputs": [],
   "source": [
    "#drop Outliers\n",
    "trainDf = trainDf.drop(detect_outlier(trainDf, [\"SibSp\", \"Age\",\"Fare\",\"Parch\"]), axis = 0).reset_index(drop = True)"
   ]
  },
  {
   "cell_type": "markdown",
   "id": "232a1c58",
   "metadata": {},
   "source": [
    "<a id='9'></a>\n",
    "# 9.Missing Value"
   ]
  },
  {
   "cell_type": "code",
   "execution_count": 25,
   "id": "1b2f783f",
   "metadata": {},
   "outputs": [],
   "source": [
    "trainDf_len = len(trainDf)"
   ]
  },
  {
   "cell_type": "code",
   "execution_count": 26,
   "id": "c08bb5bc",
   "metadata": {},
   "outputs": [],
   "source": [
    "concatDf = pd.concat([trainDf,testDf], axis=0).reset_index(drop=True)"
   ]
  },
  {
   "cell_type": "code",
   "execution_count": 27,
   "id": "cf036ea3",
   "metadata": {
    "scrolled": false
   },
   "outputs": [
    {
     "data": {
      "text/html": [
       "<div>\n",
       "<style scoped>\n",
       "    .dataframe tbody tr th:only-of-type {\n",
       "        vertical-align: middle;\n",
       "    }\n",
       "\n",
       "    .dataframe tbody tr th {\n",
       "        vertical-align: top;\n",
       "    }\n",
       "\n",
       "    .dataframe thead th {\n",
       "        text-align: right;\n",
       "    }\n",
       "</style>\n",
       "<table border=\"1\" class=\"dataframe\">\n",
       "  <thead>\n",
       "    <tr style=\"text-align: right;\">\n",
       "      <th></th>\n",
       "      <th>PassengerId</th>\n",
       "      <th>Survived</th>\n",
       "      <th>Pclass</th>\n",
       "      <th>Name</th>\n",
       "      <th>Sex</th>\n",
       "      <th>Age</th>\n",
       "      <th>SibSp</th>\n",
       "      <th>Parch</th>\n",
       "      <th>Ticket</th>\n",
       "      <th>Fare</th>\n",
       "      <th>Embarked</th>\n",
       "    </tr>\n",
       "  </thead>\n",
       "  <tbody>\n",
       "    <tr>\n",
       "      <th>0</th>\n",
       "      <td>1</td>\n",
       "      <td>No</td>\n",
       "      <td>3rd</td>\n",
       "      <td>Braund, Mr. Owen Harris</td>\n",
       "      <td>male</td>\n",
       "      <td>22.0</td>\n",
       "      <td>1</td>\n",
       "      <td>0</td>\n",
       "      <td>A/5 21171</td>\n",
       "      <td>7.2500</td>\n",
       "      <td>S</td>\n",
       "    </tr>\n",
       "    <tr>\n",
       "      <th>1</th>\n",
       "      <td>2</td>\n",
       "      <td>Yes</td>\n",
       "      <td>1st</td>\n",
       "      <td>Cumings, Mrs. John Bradley (Florence Briggs Th...</td>\n",
       "      <td>female</td>\n",
       "      <td>38.0</td>\n",
       "      <td>1</td>\n",
       "      <td>0</td>\n",
       "      <td>PC 17599</td>\n",
       "      <td>71.2833</td>\n",
       "      <td>C</td>\n",
       "    </tr>\n",
       "    <tr>\n",
       "      <th>2</th>\n",
       "      <td>3</td>\n",
       "      <td>Yes</td>\n",
       "      <td>3rd</td>\n",
       "      <td>Heikkinen, Miss. Laina</td>\n",
       "      <td>female</td>\n",
       "      <td>26.0</td>\n",
       "      <td>0</td>\n",
       "      <td>0</td>\n",
       "      <td>STON/O2. 3101282</td>\n",
       "      <td>7.9250</td>\n",
       "      <td>S</td>\n",
       "    </tr>\n",
       "    <tr>\n",
       "      <th>3</th>\n",
       "      <td>4</td>\n",
       "      <td>Yes</td>\n",
       "      <td>1st</td>\n",
       "      <td>Futrelle, Mrs. Jacques Heath (Lily May Peel)</td>\n",
       "      <td>female</td>\n",
       "      <td>35.0</td>\n",
       "      <td>1</td>\n",
       "      <td>0</td>\n",
       "      <td>113803</td>\n",
       "      <td>53.1000</td>\n",
       "      <td>S</td>\n",
       "    </tr>\n",
       "    <tr>\n",
       "      <th>4</th>\n",
       "      <td>5</td>\n",
       "      <td>No</td>\n",
       "      <td>3rd</td>\n",
       "      <td>Allen, Mr. William Henry</td>\n",
       "      <td>male</td>\n",
       "      <td>35.0</td>\n",
       "      <td>0</td>\n",
       "      <td>0</td>\n",
       "      <td>373450</td>\n",
       "      <td>8.0500</td>\n",
       "      <td>S</td>\n",
       "    </tr>\n",
       "  </tbody>\n",
       "</table>\n",
       "</div>"
      ],
      "text/plain": [
       "   PassengerId Survived Pclass  \\\n",
       "0            1       No    3rd   \n",
       "1            2      Yes    1st   \n",
       "2            3      Yes    3rd   \n",
       "3            4      Yes    1st   \n",
       "4            5       No    3rd   \n",
       "\n",
       "                                                Name     Sex   Age  SibSp  \\\n",
       "0                            Braund, Mr. Owen Harris    male  22.0      1   \n",
       "1  Cumings, Mrs. John Bradley (Florence Briggs Th...  female  38.0      1   \n",
       "2                             Heikkinen, Miss. Laina  female  26.0      0   \n",
       "3       Futrelle, Mrs. Jacques Heath (Lily May Peel)  female  35.0      1   \n",
       "4                           Allen, Mr. William Henry    male  35.0      0   \n",
       "\n",
       "  Parch            Ticket     Fare Embarked  \n",
       "0     0         A/5 21171   7.2500        S  \n",
       "1     0          PC 17599  71.2833        C  \n",
       "2     0  STON/O2. 3101282   7.9250        S  \n",
       "3     0            113803  53.1000        S  \n",
       "4     0            373450   8.0500        S  "
      ]
     },
     "execution_count": 27,
     "metadata": {},
     "output_type": "execute_result"
    }
   ],
   "source": [
    "concatDf.head()"
   ]
  },
  {
   "cell_type": "markdown",
   "id": "1c1e06f9",
   "metadata": {},
   "source": [
    "<a id='10'></a>\n",
    "## 10.Find Missing Value"
   ]
  },
  {
   "cell_type": "code",
   "execution_count": 28,
   "id": "1eba6579",
   "metadata": {
    "scrolled": true
   },
   "outputs": [
    {
     "data": {
      "text/plain": [
       "Index(['Survived', 'Age', 'Fare', 'Embarked'], dtype='object')"
      ]
     },
     "execution_count": 28,
     "metadata": {},
     "output_type": "execute_result"
    }
   ],
   "source": [
    "concatDf.columns[concatDf.isnull().any()]"
   ]
  },
  {
   "cell_type": "code",
   "execution_count": 29,
   "id": "d932e955",
   "metadata": {},
   "outputs": [
    {
     "data": {
      "text/plain": [
       "PassengerId      0\n",
       "Survived       418\n",
       "Pclass           0\n",
       "Name             0\n",
       "Sex              0\n",
       "Age            256\n",
       "SibSp            0\n",
       "Parch            0\n",
       "Ticket           0\n",
       "Fare             1\n",
       "Embarked         2\n",
       "dtype: int64"
      ]
     },
     "execution_count": 29,
     "metadata": {},
     "output_type": "execute_result"
    }
   ],
   "source": [
    "concatDf.isnull().sum()"
   ]
  },
  {
   "cell_type": "markdown",
   "id": "96b94cc8",
   "metadata": {},
   "source": [
    "<a id='11'></a>\n",
    "## 11.Fill Missing Value\n",
    "\n",
    "* Embarked has 2 missing values\n",
    "* Fare has 1 missing value"
   ]
  },
  {
   "cell_type": "code",
   "execution_count": 30,
   "id": "02a7bf23",
   "metadata": {},
   "outputs": [
    {
     "data": {
      "text/html": [
       "<div>\n",
       "<style scoped>\n",
       "    .dataframe tbody tr th:only-of-type {\n",
       "        vertical-align: middle;\n",
       "    }\n",
       "\n",
       "    .dataframe tbody tr th {\n",
       "        vertical-align: top;\n",
       "    }\n",
       "\n",
       "    .dataframe thead th {\n",
       "        text-align: right;\n",
       "    }\n",
       "</style>\n",
       "<table border=\"1\" class=\"dataframe\">\n",
       "  <thead>\n",
       "    <tr style=\"text-align: right;\">\n",
       "      <th></th>\n",
       "      <th>PassengerId</th>\n",
       "      <th>Survived</th>\n",
       "      <th>Pclass</th>\n",
       "      <th>Name</th>\n",
       "      <th>Sex</th>\n",
       "      <th>Age</th>\n",
       "      <th>SibSp</th>\n",
       "      <th>Parch</th>\n",
       "      <th>Ticket</th>\n",
       "      <th>Fare</th>\n",
       "      <th>Embarked</th>\n",
       "    </tr>\n",
       "  </thead>\n",
       "  <tbody>\n",
       "    <tr>\n",
       "      <th>60</th>\n",
       "      <td>62</td>\n",
       "      <td>Yes</td>\n",
       "      <td>1st</td>\n",
       "      <td>Icard, Miss. Amelie</td>\n",
       "      <td>female</td>\n",
       "      <td>38.0</td>\n",
       "      <td>0</td>\n",
       "      <td>0</td>\n",
       "      <td>113572</td>\n",
       "      <td>80.0</td>\n",
       "      <td>NaN</td>\n",
       "    </tr>\n",
       "    <tr>\n",
       "      <th>821</th>\n",
       "      <td>830</td>\n",
       "      <td>Yes</td>\n",
       "      <td>1st</td>\n",
       "      <td>Stone, Mrs. George Nelson (Martha Evelyn)</td>\n",
       "      <td>female</td>\n",
       "      <td>62.0</td>\n",
       "      <td>0</td>\n",
       "      <td>0</td>\n",
       "      <td>113572</td>\n",
       "      <td>80.0</td>\n",
       "      <td>NaN</td>\n",
       "    </tr>\n",
       "  </tbody>\n",
       "</table>\n",
       "</div>"
      ],
      "text/plain": [
       "     PassengerId Survived Pclass                                       Name  \\\n",
       "60            62      Yes    1st                        Icard, Miss. Amelie   \n",
       "821          830      Yes    1st  Stone, Mrs. George Nelson (Martha Evelyn)   \n",
       "\n",
       "        Sex   Age  SibSp Parch  Ticket  Fare Embarked  \n",
       "60   female  38.0      0     0  113572  80.0      NaN  \n",
       "821  female  62.0      0     0  113572  80.0      NaN  "
      ]
     },
     "execution_count": 30,
     "metadata": {},
     "output_type": "execute_result"
    }
   ],
   "source": [
    "concatDf[concatDf[\"Embarked\"].isnull()]"
   ]
  },
  {
   "cell_type": "markdown",
   "id": "b984544a",
   "metadata": {},
   "source": [
    "# Comment:\n",
    "1. We can fill nan of embarked value according to Fare."
   ]
  },
  {
   "cell_type": "code",
   "execution_count": 31,
   "id": "b9098275",
   "metadata": {
    "slideshow": {
     "slide_type": "-"
    }
   },
   "outputs": [
    {
     "data": {
      "image/png": "[encoded data removed]",
      "text/plain": [
       "<Figure size 432x288 with 1 Axes>"
      ]
     },
     "metadata": {},
     "output_type": "display_data"
    }
   ],
   "source": [
    "concatDf.boxplot(column=\"Fare\", by=\"Embarked\")\n",
    "plt.show()"
   ]
  },
  {
   "cell_type": "markdown",
   "id": "9e3ab560",
   "metadata": {},
   "source": [
    "# Comment:\n",
    "1. The graph shows us that 2 passengers could probably board the Titanic from C and We can fill with C"
   ]
  },
  {
   "cell_type": "code",
   "execution_count": 32,
   "id": "b1a6e1d9",
   "metadata": {},
   "outputs": [],
   "source": [
    "concatDf[\"Embarked\"] = concatDf[\"Embarked\"].fillna(\"C\")"
   ]
  },
  {
   "cell_type": "code",
   "execution_count": 33,
   "id": "cbf4f66e",
   "metadata": {},
   "outputs": [
    {
     "data": {
      "text/html": [
       "<div>\n",
       "<style scoped>\n",
       "    .dataframe tbody tr th:only-of-type {\n",
       "        vertical-align: middle;\n",
       "    }\n",
       "\n",
       "    .dataframe tbody tr th {\n",
       "        vertical-align: top;\n",
       "    }\n",
       "\n",
       "    .dataframe thead th {\n",
       "        text-align: right;\n",
       "    }\n",
       "</style>\n",
       "<table border=\"1\" class=\"dataframe\">\n",
       "  <thead>\n",
       "    <tr style=\"text-align: right;\">\n",
       "      <th></th>\n",
       "      <th>PassengerId</th>\n",
       "      <th>Survived</th>\n",
       "      <th>Pclass</th>\n",
       "      <th>Name</th>\n",
       "      <th>Sex</th>\n",
       "      <th>Age</th>\n",
       "      <th>SibSp</th>\n",
       "      <th>Parch</th>\n",
       "      <th>Ticket</th>\n",
       "      <th>Fare</th>\n",
       "      <th>Embarked</th>\n",
       "    </tr>\n",
       "  </thead>\n",
       "  <tbody>\n",
       "    <tr>\n",
       "      <th>1033</th>\n",
       "      <td>1044</td>\n",
       "      <td>NaN</td>\n",
       "      <td>3</td>\n",
       "      <td>Storey, Mr. Thomas</td>\n",
       "      <td>male</td>\n",
       "      <td>60.5</td>\n",
       "      <td>0</td>\n",
       "      <td>0</td>\n",
       "      <td>3701</td>\n",
       "      <td>NaN</td>\n",
       "      <td>S</td>\n",
       "    </tr>\n",
       "  </tbody>\n",
       "</table>\n",
       "</div>"
      ],
      "text/plain": [
       "      PassengerId Survived Pclass                Name   Sex   Age  SibSp  \\\n",
       "1033         1044      NaN      3  Storey, Mr. Thomas  male  60.5      0   \n",
       "\n",
       "     Parch Ticket  Fare Embarked  \n",
       "1033     0   3701   NaN        S  "
      ]
     },
     "execution_count": 33,
     "metadata": {},
     "output_type": "execute_result"
    }
   ],
   "source": [
    "concatDf[concatDf[\"Fare\"].isnull()]"
   ]
  },
  {
   "cell_type": "markdown",
   "id": "968710c0",
   "metadata": {},
   "source": [
    "# Comment\n",
    "1. We can fill in the Fare with the average of the money they paid according to their Embarked and the Pclass"
   ]
  },
  {
   "cell_type": "code",
   "execution_count": 34,
   "id": "da37bfe6",
   "metadata": {},
   "outputs": [],
   "source": [
    "concatDf[\"Fare\"] = concatDf[\"Fare\"].fillna(np.mean(concatDf[(concatDf[\"Pclass\"] == 3) & (concatDf[\"Embarked\"] == \"S\")][\"Fare\"]))"
   ]
  },
  {
   "cell_type": "code",
   "execution_count": 35,
   "id": "546cd706",
   "metadata": {
    "scrolled": true
   },
   "outputs": [
    {
     "data": {
      "text/html": [
       "<div>\n",
       "<style scoped>\n",
       "    .dataframe tbody tr th:only-of-type {\n",
       "        vertical-align: middle;\n",
       "    }\n",
       "\n",
       "    .dataframe tbody tr th {\n",
       "        vertical-align: top;\n",
       "    }\n",
       "\n",
       "    .dataframe thead th {\n",
       "        text-align: right;\n",
       "    }\n",
       "</style>\n",
       "<table border=\"1\" class=\"dataframe\">\n",
       "  <thead>\n",
       "    <tr style=\"text-align: right;\">\n",
       "      <th></th>\n",
       "      <th>PassengerId</th>\n",
       "      <th>Survived</th>\n",
       "      <th>Pclass</th>\n",
       "      <th>Name</th>\n",
       "      <th>Sex</th>\n",
       "      <th>Age</th>\n",
       "      <th>SibSp</th>\n",
       "      <th>Parch</th>\n",
       "      <th>Ticket</th>\n",
       "      <th>Fare</th>\n",
       "      <th>Embarked</th>\n",
       "    </tr>\n",
       "  </thead>\n",
       "  <tbody>\n",
       "  </tbody>\n",
       "</table>\n",
       "</div>"
      ],
      "text/plain": [
       "Empty DataFrame\n",
       "Columns: [PassengerId, Survived, Pclass, Name, Sex, Age, SibSp, Parch, Ticket, Fare, Embarked]\n",
       "Index: []"
      ]
     },
     "execution_count": 35,
     "metadata": {},
     "output_type": "execute_result"
    }
   ],
   "source": [
    "concatDf[concatDf[\"Fare\"].isnull()]"
   ]
  },
  {
   "cell_type": "markdown",
   "id": "4ab87ad4",
   "metadata": {},
   "source": [
    "<a id='12'></a>\n",
    "# Visulization"
   ]
  },
  {
   "cell_type": "markdown",
   "id": "ea061382",
   "metadata": {},
   "source": [
    "<a id='13'></a>\n",
    "## Correlation Between SipSb -- Parch -- Age -- Fare -- Survived"
   ]
  },
  {
   "cell_type": "code",
   "execution_count": 36,
   "id": "e6a5b57a",
   "metadata": {},
   "outputs": [],
   "source": [
    "concatDf[\"Survived\"].replace({\"No\":0,\"Yes\":1}, inplace=True)"
   ]
  },
  {
   "cell_type": "code",
   "execution_count": 37,
   "id": "55eb339e",
   "metadata": {
    "scrolled": true
   },
   "outputs": [
    {
     "data": {
      "text/plain": [
       "<AxesSubplot:>"
      ]
     },
     "execution_count": 37,
     "metadata": {},
     "output_type": "execute_result"
    },
    {
     "data": {
      "image/png": "[encoded data removed]",
      "text/plain": [
       "<Figure size 432x288 with 2 Axes>"
      ]
     },
     "metadata": {},
     "output_type": "display_data"
    }
   ],
   "source": [
    "list1 = [\"SibSp\", \"Parch\", \"Age\",\"Fare\",\"Survived\"]\n",
    "sns.heatmap(concatDf[list1].corr(), annot = True, fmt= \".2f\")"
   ]
  },
  {
   "cell_type": "markdown",
   "id": "18b90fdb",
   "metadata": {},
   "source": [
    "## Comment:\n",
    "1. Fare feature seems to have correlation with survived feature(.26)"
   ]
  },
  {
   "cell_type": "markdown",
   "id": "b520eeb6",
   "metadata": {},
   "source": [
    "<a id='14'></a>\n",
    "## SibSp -- Survived"
   ]
  },
  {
   "cell_type": "code",
   "execution_count": 38,
   "id": "6eba0282",
   "metadata": {},
   "outputs": [
    {
     "data": {
      "image/png": "[encoded data removed]",
      "text/plain": [
       "<Figure size 432x432 with 1 Axes>"
      ]
     },
     "metadata": {},
     "output_type": "display_data"
    }
   ],
   "source": [
    "g = sns.factorplot(x = \"SibSp\", y = \"Survived\", data = concatDf, kind = \"bar\", size = 6)\n",
    "g.set_ylabels(\"Survived Probability\")\n",
    "plt.show()"
   ]
  },
  {
   "cell_type": "markdown",
   "id": "d89f8950",
   "metadata": {},
   "source": [
    "# Comment:\n",
    "1. If the family has got more than 2 members they have less chance to survive"
   ]
  },
  {
   "cell_type": "markdown",
   "id": "90ff073c",
   "metadata": {},
   "source": [
    "<a id='15'></a>\n",
    "## Parch -- Survived"
   ]
  },
  {
   "cell_type": "code",
   "execution_count": 39,
   "id": "82cb97d5",
   "metadata": {},
   "outputs": [
    {
     "data": {
      "image/png": "[encoded data removed]",
      "text/plain": [
       "<Figure size 432x432 with 1 Axes>"
      ]
     },
     "metadata": {},
     "output_type": "display_data"
    }
   ],
   "source": [
    "g = sns.factorplot(x = \"Parch\", y = \"Survived\", \n",
    "                  data = concatDf, kind = \"bar\", size = 6)\n",
    "g.set_ylabels(\"Survived Probability\")\n",
    "plt.show()"
   ]
  },
  {
   "cell_type": "markdown",
   "id": "17c5e1a7",
   "metadata": {},
   "source": [
    "# Comment:\n",
    "1. 3 members of parch have got very large std. It means that although it shows us that survived probability equal to 0.6, it's going to be survived between 0.2 and 1.\n",
    "2. 1 or 2 members of parch have got approximately 0.58 rate of survival."
   ]
  },
  {
   "cell_type": "markdown",
   "id": "0cdf4d79",
   "metadata": {},
   "source": [
    "<a id='16'></a>\n",
    "\n",
    "## Pclass -- Survived"
   ]
  },
  {
   "cell_type": "code",
   "execution_count": 40,
   "id": "33138479",
   "metadata": {},
   "outputs": [],
   "source": [
    "concatDf[\"Pclass\"].replace({\"1st\":1,\"2nd\":2,\"3rd\":3}, inplace=True)"
   ]
  },
  {
   "cell_type": "code",
   "execution_count": 41,
   "id": "95ecadf8",
   "metadata": {},
   "outputs": [
    {
     "data": {
      "image/png": "[encoded data removed]",
      "text/plain": [
       "<Figure size 432x432 with 1 Axes>"
      ]
     },
     "metadata": {},
     "output_type": "display_data"
    }
   ],
   "source": [
    "g = sns.factorplot(x = \"Pclass\", y = \"Survived\", data = concatDf,kind=\"bar\",size = 6)\n",
    "g.set_ylabels(\"Survived Probablity\")\n",
    "plt.show()"
   ]
  },
  {
   "cell_type": "markdown",
   "id": "640cb40d",
   "metadata": {},
   "source": [
    "# Comment:\n",
    "1. If someone boards first class, She/He chance to survive more than others."
   ]
  },
  {
   "cell_type": "markdown",
   "id": "4ee5c718",
   "metadata": {},
   "source": [
    "<a id='17'></a>\n",
    "## Age -- Survived"
   ]
  },
  {
   "cell_type": "code",
   "execution_count": 42,
   "id": "91952cd0",
   "metadata": {},
   "outputs": [
    {
     "data": {
      "image/png": "[encoded data removed]",
      "text/plain": [
       "<Figure size 720x360 with 2 Axes>"
      ]
     },
     "metadata": {},
     "output_type": "display_data"
    }
   ],
   "source": [
    "g = sns.FacetGrid(concatDf, col=\"Survived\", size=5)\n",
    "g.map(sns.distplot, \"Age\", bins= 25)\n",
    "plt.show()"
   ]
  },
  {
   "cell_type": "markdown",
   "id": "68eb0cb2",
   "metadata": {},
   "source": [
    "# Comment:\n",
    "1. Children who are between 0 and 10 years old have more chances of survival rate than others.\n",
    "2. Oldest people survived.\n",
    "3. Large number of 20 years old did not survived\n",
    "4. Most passanger are in 15-35 age range"
   ]
  },
  {
   "cell_type": "markdown",
   "id": "d6646556",
   "metadata": {},
   "source": [
    "<a id='18'></a>\n",
    "## Pclass -- Age -- Survived"
   ]
  },
  {
   "cell_type": "code",
   "execution_count": 43,
   "id": "4264a73a",
   "metadata": {},
   "outputs": [
    {
     "data": {
      "image/png": "[encoded data removed]",
      "text/plain": [
       "<Figure size 440x648 with 6 Axes>"
      ]
     },
     "metadata": {},
     "output_type": "display_data"
    }
   ],
   "source": [
    "g = sns.FacetGrid(concatDf, col=\"Survived\", row=\"Pclass\",size=3)\n",
    "g.map(plt.hist,\"Age\", bins= 25)\n",
    "g.add_legend()\n",
    "plt.show()"
   ]
  },
  {
   "cell_type": "markdown",
   "id": "f393b36d",
   "metadata": {},
   "source": [
    "# Comment:\n",
    "1. Most of third class passangers did not survive"
   ]
  },
  {
   "cell_type": "markdown",
   "id": "6e5276b1",
   "metadata": {},
   "source": [
    "<a id='19'></a>\n",
    "## Embarked -- Sex -- Pclass -- Survived"
   ]
  },
  {
   "cell_type": "code",
   "execution_count": 44,
   "id": "b207f1b9",
   "metadata": {},
   "outputs": [
    {
     "data": {
      "image/png": "[encoded data removed]",
      "text/plain": [
       "<Figure size 282.125x648 with 3 Axes>"
      ]
     },
     "metadata": {},
     "output_type": "display_data"
    }
   ],
   "source": [
    "g = sns.FacetGrid(concatDf, row= \"Embarked\", size = 3)\n",
    "g.map(sns.pointplot, \"Pclass\", \"Survived\", \"Sex\")\n",
    "g.add_legend()\n",
    "plt.show()"
   ]
  },
  {
   "cell_type": "markdown",
   "id": "0ce27c17",
   "metadata": {},
   "source": [
    "# Comment:\n",
    "1. Female passangers have much better survival rate than male passangers.\n",
    "2. Pclass and Embarked have got relationship with each others\n",
    "3. Male passangers have better survival rate in pclass in C\n",
    "4. Q embarked; If you are female and your class is 1 or 2 you are most possibility survive."
   ]
  },
  {
   "cell_type": "markdown",
   "id": "526a8616",
   "metadata": {},
   "source": [
    "<a id='20'></a>\n",
    "## Embarked -- Sex -- Fare -- Survived"
   ]
  },
  {
   "cell_type": "code",
   "execution_count": 45,
   "id": "63c12b21",
   "metadata": {},
   "outputs": [
    {
     "data": {
      "image/png": "[encoded data removed]",
      "text/plain": [
       "<Figure size 440x648 with 6 Axes>"
      ]
     },
     "metadata": {},
     "output_type": "display_data"
    }
   ],
   "source": [
    "g = sns.FacetGrid(concatDf, row= \"Embarked\", col= \"Survived\",\n",
    "                 size = 3)\n",
    "g.map(sns.barplot, \"Sex\",\"Fare\")\n",
    "g.add_legend()\n",
    "plt.show()"
   ]
  },
  {
   "cell_type": "markdown",
   "id": "4fd80f53",
   "metadata": {},
   "source": [
    "# Comment:\n",
    "1. If you paid more money than others you might chance to survive more than others\n",
    "2. If you board from Q you will most possibility to chance to survive."
   ]
  },
  {
   "cell_type": "markdown",
   "id": "bfa91730",
   "metadata": {},
   "source": [
    "<a id='21'></a>\n",
    "## Fill Missing Value: Age Feature"
   ]
  },
  {
   "cell_type": "code",
   "execution_count": 46,
   "id": "450409a5",
   "metadata": {},
   "outputs": [
    {
     "data": {
      "text/html": [
       "<div>\n",
       "<style scoped>\n",
       "    .dataframe tbody tr th:only-of-type {\n",
       "        vertical-align: middle;\n",
       "    }\n",
       "\n",
       "    .dataframe tbody tr th {\n",
       "        vertical-align: top;\n",
       "    }\n",
       "\n",
       "    .dataframe thead th {\n",
       "        text-align: right;\n",
       "    }\n",
       "</style>\n",
       "<table border=\"1\" class=\"dataframe\">\n",
       "  <thead>\n",
       "    <tr style=\"text-align: right;\">\n",
       "      <th></th>\n",
       "      <th>PassengerId</th>\n",
       "      <th>Survived</th>\n",
       "      <th>Pclass</th>\n",
       "      <th>Name</th>\n",
       "      <th>Sex</th>\n",
       "      <th>Age</th>\n",
       "      <th>SibSp</th>\n",
       "      <th>Parch</th>\n",
       "      <th>Ticket</th>\n",
       "      <th>Fare</th>\n",
       "      <th>Embarked</th>\n",
       "    </tr>\n",
       "  </thead>\n",
       "  <tbody>\n",
       "    <tr>\n",
       "      <th>5</th>\n",
       "      <td>6</td>\n",
       "      <td>0.0</td>\n",
       "      <td>3</td>\n",
       "      <td>Moran, Mr. James</td>\n",
       "      <td>male</td>\n",
       "      <td>NaN</td>\n",
       "      <td>0</td>\n",
       "      <td>0</td>\n",
       "      <td>330877</td>\n",
       "      <td>8.4583</td>\n",
       "      <td>Q</td>\n",
       "    </tr>\n",
       "    <tr>\n",
       "      <th>17</th>\n",
       "      <td>18</td>\n",
       "      <td>1.0</td>\n",
       "      <td>2</td>\n",
       "      <td>Williams, Mr. Charles Eugene</td>\n",
       "      <td>male</td>\n",
       "      <td>NaN</td>\n",
       "      <td>0</td>\n",
       "      <td>0</td>\n",
       "      <td>244373</td>\n",
       "      <td>13.0000</td>\n",
       "      <td>S</td>\n",
       "    </tr>\n",
       "    <tr>\n",
       "      <th>19</th>\n",
       "      <td>20</td>\n",
       "      <td>1.0</td>\n",
       "      <td>3</td>\n",
       "      <td>Masselmani, Mrs. Fatima</td>\n",
       "      <td>female</td>\n",
       "      <td>NaN</td>\n",
       "      <td>0</td>\n",
       "      <td>0</td>\n",
       "      <td>2649</td>\n",
       "      <td>7.2250</td>\n",
       "      <td>C</td>\n",
       "    </tr>\n",
       "    <tr>\n",
       "      <th>26</th>\n",
       "      <td>27</td>\n",
       "      <td>0.0</td>\n",
       "      <td>3</td>\n",
       "      <td>Emir, Mr. Farred Chehab</td>\n",
       "      <td>male</td>\n",
       "      <td>NaN</td>\n",
       "      <td>0</td>\n",
       "      <td>0</td>\n",
       "      <td>2631</td>\n",
       "      <td>7.2250</td>\n",
       "      <td>C</td>\n",
       "    </tr>\n",
       "    <tr>\n",
       "      <th>27</th>\n",
       "      <td>29</td>\n",
       "      <td>1.0</td>\n",
       "      <td>3</td>\n",
       "      <td>O'Dwyer, Miss. Ellen \"Nellie\"</td>\n",
       "      <td>female</td>\n",
       "      <td>NaN</td>\n",
       "      <td>0</td>\n",
       "      <td>0</td>\n",
       "      <td>330959</td>\n",
       "      <td>7.8792</td>\n",
       "      <td>Q</td>\n",
       "    </tr>\n",
       "    <tr>\n",
       "      <th>...</th>\n",
       "      <td>...</td>\n",
       "      <td>...</td>\n",
       "      <td>...</td>\n",
       "      <td>...</td>\n",
       "      <td>...</td>\n",
       "      <td>...</td>\n",
       "      <td>...</td>\n",
       "      <td>...</td>\n",
       "      <td>...</td>\n",
       "      <td>...</td>\n",
       "      <td>...</td>\n",
       "    </tr>\n",
       "    <tr>\n",
       "      <th>1289</th>\n",
       "      <td>1300</td>\n",
       "      <td>NaN</td>\n",
       "      <td>3</td>\n",
       "      <td>Riordan, Miss. Johanna Hannah\"\"</td>\n",
       "      <td>female</td>\n",
       "      <td>NaN</td>\n",
       "      <td>0</td>\n",
       "      <td>0</td>\n",
       "      <td>334915</td>\n",
       "      <td>7.7208</td>\n",
       "      <td>Q</td>\n",
       "    </tr>\n",
       "    <tr>\n",
       "      <th>1291</th>\n",
       "      <td>1302</td>\n",
       "      <td>NaN</td>\n",
       "      <td>3</td>\n",
       "      <td>Naughton, Miss. Hannah</td>\n",
       "      <td>female</td>\n",
       "      <td>NaN</td>\n",
       "      <td>0</td>\n",
       "      <td>0</td>\n",
       "      <td>365237</td>\n",
       "      <td>7.7500</td>\n",
       "      <td>Q</td>\n",
       "    </tr>\n",
       "    <tr>\n",
       "      <th>1294</th>\n",
       "      <td>1305</td>\n",
       "      <td>NaN</td>\n",
       "      <td>3</td>\n",
       "      <td>Spector, Mr. Woolf</td>\n",
       "      <td>male</td>\n",
       "      <td>NaN</td>\n",
       "      <td>0</td>\n",
       "      <td>0</td>\n",
       "      <td>A.5. 3236</td>\n",
       "      <td>8.0500</td>\n",
       "      <td>S</td>\n",
       "    </tr>\n",
       "    <tr>\n",
       "      <th>1297</th>\n",
       "      <td>1308</td>\n",
       "      <td>NaN</td>\n",
       "      <td>3</td>\n",
       "      <td>Ware, Mr. Frederick</td>\n",
       "      <td>male</td>\n",
       "      <td>NaN</td>\n",
       "      <td>0</td>\n",
       "      <td>0</td>\n",
       "      <td>359309</td>\n",
       "      <td>8.0500</td>\n",
       "      <td>S</td>\n",
       "    </tr>\n",
       "    <tr>\n",
       "      <th>1298</th>\n",
       "      <td>1309</td>\n",
       "      <td>NaN</td>\n",
       "      <td>3</td>\n",
       "      <td>Peter, Master. Michael J</td>\n",
       "      <td>male</td>\n",
       "      <td>NaN</td>\n",
       "      <td>1</td>\n",
       "      <td>1</td>\n",
       "      <td>2668</td>\n",
       "      <td>22.3583</td>\n",
       "      <td>C</td>\n",
       "    </tr>\n",
       "  </tbody>\n",
       "</table>\n",
       "<p>256 rows × 11 columns</p>\n",
       "</div>"
      ],
      "text/plain": [
       "      PassengerId  Survived  Pclass                             Name     Sex  \\\n",
       "5               6       0.0       3                 Moran, Mr. James    male   \n",
       "17             18       1.0       2     Williams, Mr. Charles Eugene    male   \n",
       "19             20       1.0       3          Masselmani, Mrs. Fatima  female   \n",
       "26             27       0.0       3          Emir, Mr. Farred Chehab    male   \n",
       "27             29       1.0       3    O'Dwyer, Miss. Ellen \"Nellie\"  female   \n",
       "...           ...       ...     ...                              ...     ...   \n",
       "1289         1300       NaN       3  Riordan, Miss. Johanna Hannah\"\"  female   \n",
       "1291         1302       NaN       3           Naughton, Miss. Hannah  female   \n",
       "1294         1305       NaN       3               Spector, Mr. Woolf    male   \n",
       "1297         1308       NaN       3              Ware, Mr. Frederick    male   \n",
       "1298         1309       NaN       3         Peter, Master. Michael J    male   \n",
       "\n",
       "      Age  SibSp Parch     Ticket     Fare Embarked  \n",
       "5     NaN      0     0     330877   8.4583        Q  \n",
       "17    NaN      0     0     244373  13.0000        S  \n",
       "19    NaN      0     0       2649   7.2250        C  \n",
       "26    NaN      0     0       2631   7.2250        C  \n",
       "27    NaN      0     0     330959   7.8792        Q  \n",
       "...   ...    ...   ...        ...      ...      ...  \n",
       "1289  NaN      0     0     334915   7.7208        Q  \n",
       "1291  NaN      0     0     365237   7.7500        Q  \n",
       "1294  NaN      0     0  A.5. 3236   8.0500        S  \n",
       "1297  NaN      0     0     359309   8.0500        S  \n",
       "1298  NaN      1     1       2668  22.3583        C  \n",
       "\n",
       "[256 rows x 11 columns]"
      ]
     },
     "execution_count": 46,
     "metadata": {},
     "output_type": "execute_result"
    }
   ],
   "source": [
    "concatDf[concatDf[\"Age\"].isnull()]"
   ]
  },
  {
   "cell_type": "markdown",
   "id": "59d11f3a",
   "metadata": {},
   "source": [
    "# Comment:\n",
    "1. Age feature has got 256 nan values"
   ]
  },
  {
   "cell_type": "code",
   "execution_count": 47,
   "id": "52ec1c22",
   "metadata": {},
   "outputs": [
    {
     "data": {
      "image/png": "[encoded data removed]",
      "text/plain": [
       "<Figure size 360x360 with 1 Axes>"
      ]
     },
     "metadata": {},
     "output_type": "display_data"
    }
   ],
   "source": [
    "# Firstly We can compare sex and age variable with each other.\n",
    "sns.factorplot(x = \"Sex\", y= \"Age\", data = concatDf, kind= \"box\")\n",
    "plt.show()"
   ]
  },
  {
   "cell_type": "markdown",
   "id": "f66126cd",
   "metadata": {},
   "source": [
    "# Comment:\n",
    "1. We can see that the 2 features have got nearly the same median values. It means that We can not decide to compare to fill nan values."
   ]
  },
  {
   "cell_type": "code",
   "execution_count": 48,
   "id": "d4823204",
   "metadata": {},
   "outputs": [
    {
     "data": {
      "image/png": "[encoded data removed]",
      "text/plain": [
       "<Figure size 401.625x360 with 1 Axes>"
      ]
     },
     "metadata": {},
     "output_type": "display_data"
    }
   ],
   "source": [
    "sns.factorplot(x = \"Sex\", y= \"Age\", hue= \"Pclass\", data = concatDf, kind= \"box\")\n",
    "plt.show()"
   ]
  },
  {
   "cell_type": "markdown",
   "id": "b5a75599",
   "metadata": {},
   "source": [
    "# Comment: \n",
    "1. If someone is in the third class median value is approximately 25.\n",
    "2. If someone is in the second class median value is approximately 30.\n",
    "3. If someone is in the first class median value is approximately 40.\n",
    "5. To sum up: The younger passengers are in the third class."
   ]
  },
  {
   "cell_type": "code",
   "execution_count": 49,
   "id": "9c2f25f4",
   "metadata": {},
   "outputs": [
    {
     "data": {
      "image/png": "[encoded data removed]",
      "text/plain": [
       "<Figure size 360x360 with 1 Axes>"
      ]
     },
     "metadata": {},
     "output_type": "display_data"
    },
    {
     "data": {
      "image/png": "[encoded data removed]",
      "text/plain": [
       "<Figure size 360x360 with 1 Axes>"
      ]
     },
     "metadata": {},
     "output_type": "display_data"
    }
   ],
   "source": [
    "sns.factorplot(x = \"Parch\", y= \"Age\", data = concatDf, kind= \"box\")\n",
    "sns.factorplot(x = \"SibSp\", y= \"Age\", data = concatDf, kind= \"box\")\n",
    "plt.show()"
   ]
  },
  {
   "cell_type": "code",
   "execution_count": 50,
   "id": "1338c1ee",
   "metadata": {},
   "outputs": [],
   "source": [
    "concatDf = concatDf.astype({\"Parch\":'int64'})"
   ]
  },
  {
   "cell_type": "code",
   "execution_count": 51,
   "id": "8e5dc6af",
   "metadata": {},
   "outputs": [],
   "source": [
    "concatDf[\"Sex\"] = [1 if i == \"male\" else 0 for i in concatDf[\"Sex\"]]"
   ]
  },
  {
   "cell_type": "code",
   "execution_count": 52,
   "id": "6bdca4cf",
   "metadata": {},
   "outputs": [
    {
     "data": {
      "image/png": "[encoded data removed]",
      "text/plain": [
       "<Figure size 720x360 with 2 Axes>"
      ]
     },
     "metadata": {},
     "output_type": "display_data"
    }
   ],
   "source": [
    "plt.figure(figsize=(10,5))\n",
    "sns.heatmap(concatDf[[\"Age\",\"Sex\",\"SibSp\",\"Parch\",\"Pclass\"]].corr(), annot= True)\n",
    "plt.show()"
   ]
  },
  {
   "cell_type": "markdown",
   "id": "7a90d2da",
   "metadata": {},
   "source": [
    "# Comment:\n",
    "1. Heatmap shows us that age and sex features do not correlate with each other.\n",
    "2. On the other hand, age feature correlate with SibSp, Parch and Pclass"
   ]
  },
  {
   "cell_type": "code",
   "execution_count": 53,
   "id": "eb301957",
   "metadata": {},
   "outputs": [
    {
     "data": {
      "text/plain": [
       "[5,\n",
       " 17,\n",
       " 19,\n",
       " 26,\n",
       " 27,\n",
       " 28,\n",
       " 30,\n",
       " 31,\n",
       " 35,\n",
       " 41,\n",
       " 44,\n",
       " 45,\n",
       " 46,\n",
       " 47,\n",
       " 54,\n",
       " 63,\n",
       " 64,\n",
       " 75,\n",
       " 76,\n",
       " 81,\n",
       " 86,\n",
       " 93,\n",
       " 99,\n",
       " 105,\n",
       " 107,\n",
       " 119,\n",
       " 124,\n",
       " 126,\n",
       " 138,\n",
       " 152,\n",
       " 156,\n",
       " 163,\n",
       " 165,\n",
       " 173,\n",
       " 177,\n",
       " 181,\n",
       " 182,\n",
       " 192,\n",
       " 194,\n",
       " 209,\n",
       " 218,\n",
       " 224,\n",
       " 230,\n",
       " 235,\n",
       " 236,\n",
       " 245,\n",
       " 251,\n",
       " 255,\n",
       " 259,\n",
       " 265,\n",
       " 269,\n",
       " 272,\n",
       " 279,\n",
       " 290,\n",
       " 293,\n",
       " 295,\n",
       " 296,\n",
       " 298,\n",
       " 299,\n",
       " 301,\n",
       " 324,\n",
       " 328,\n",
       " 329,\n",
       " 340,\n",
       " 344,\n",
       " 347,\n",
       " 351,\n",
       " 352,\n",
       " 357,\n",
       " 360,\n",
       " 361,\n",
       " 368,\n",
       " 377,\n",
       " 381,\n",
       " 402,\n",
       " 403,\n",
       " 404,\n",
       " 406,\n",
       " 408,\n",
       " 413,\n",
       " 418,\n",
       " 421,\n",
       " 424,\n",
       " 437,\n",
       " 444,\n",
       " 447,\n",
       " 450,\n",
       " 452,\n",
       " 457,\n",
       " 459,\n",
       " 461,\n",
       " 463,\n",
       " 468,\n",
       " 474,\n",
       " 478,\n",
       " 483,\n",
       " 488,\n",
       " 490,\n",
       " 495,\n",
       " 500,\n",
       " 504,\n",
       " 510,\n",
       " 515,\n",
       " 517,\n",
       " 520,\n",
       " 524,\n",
       " 526,\n",
       " 531,\n",
       " 540,\n",
       " 545,\n",
       " 550,\n",
       " 553,\n",
       " 556,\n",
       " 557,\n",
       " 561,\n",
       " 566,\n",
       " 571,\n",
       " 577,\n",
       " 582,\n",
       " 586,\n",
       " 589,\n",
       " 591,\n",
       " 594,\n",
       " 595,\n",
       " 604,\n",
       " 605,\n",
       " 606,\n",
       " 622,\n",
       " 626,\n",
       " 632,\n",
       " 636,\n",
       " 641,\n",
       " 643,\n",
       " 646,\n",
       " 649,\n",
       " 660,\n",
       " 662,\n",
       " 667,\n",
       " 673,\n",
       " 685,\n",
       " 690,\n",
       " 702,\n",
       " 704,\n",
       " 711,\n",
       " 720,\n",
       " 725,\n",
       " 731,\n",
       " 732,\n",
       " 733,\n",
       " 753,\n",
       " 759,\n",
       " 761,\n",
       " 766,\n",
       " 769,\n",
       " 771,\n",
       " 776,\n",
       " 783,\n",
       " 785,\n",
       " 807,\n",
       " 817,\n",
       " 818,\n",
       " 820,\n",
       " 824,\n",
       " 829,\n",
       " 831,\n",
       " 840,\n",
       " 850,\n",
       " 858,\n",
       " 868,\n",
       " 878,\n",
       " 891,\n",
       " 903,\n",
       " 910,\n",
       " 914,\n",
       " 917,\n",
       " 920,\n",
       " 922,\n",
       " 928,\n",
       " 935,\n",
       " 939,\n",
       " 946,\n",
       " 957,\n",
       " 964,\n",
       " 965,\n",
       " 966,\n",
       " 969,\n",
       " 972,\n",
       " 974,\n",
       " 983,\n",
       " 988,\n",
       " 989,\n",
       " 992,\n",
       " 997,\n",
       " 1002,\n",
       " 1005,\n",
       " 1008,\n",
       " 1013,\n",
       " 1014,\n",
       " 1027,\n",
       " 1029,\n",
       " 1032,\n",
       " 1041,\n",
       " 1044,\n",
       " 1049,\n",
       " 1051,\n",
       " 1054,\n",
       " 1064,\n",
       " 1069,\n",
       " 1072,\n",
       " 1080,\n",
       " 1081,\n",
       " 1086,\n",
       " 1092,\n",
       " 1097,\n",
       " 1100,\n",
       " 1106,\n",
       " 1108,\n",
       " 1114,\n",
       " 1124,\n",
       " 1125,\n",
       " 1130,\n",
       " 1136,\n",
       " 1137,\n",
       " 1146,\n",
       " 1147,\n",
       " 1148,\n",
       " 1149,\n",
       " 1152,\n",
       " 1154,\n",
       " 1155,\n",
       " 1163,\n",
       " 1167,\n",
       " 1169,\n",
       " 1170,\n",
       " 1171,\n",
       " 1173,\n",
       " 1178,\n",
       " 1182,\n",
       " 1185,\n",
       " 1193,\n",
       " 1213,\n",
       " 1220,\n",
       " 1223,\n",
       " 1225,\n",
       " 1238,\n",
       " 1239,\n",
       " 1246,\n",
       " 1247,\n",
       " 1261,\n",
       " 1263,\n",
       " 1265,\n",
       " 1289,\n",
       " 1291,\n",
       " 1294,\n",
       " 1297,\n",
       " 1298]"
      ]
     },
     "execution_count": 53,
     "metadata": {},
     "output_type": "execute_result"
    }
   ],
   "source": [
    "# We take indices of nan values of the age feature.\n",
    "indices_nan_age = list(concatDf[\"Age\"][concatDf[\"Age\"].isnull()].index)\n",
    "indices_nan_age"
   ]
  },
  {
   "cell_type": "code",
   "execution_count": 54,
   "id": "1813cb89",
   "metadata": {},
   "outputs": [],
   "source": [
    "for i in indices_nan_age:\n",
    "    age_pred = concatDf[\"Age\"][(concatDf[\"SibSp\"]== concatDf.iloc[i][\"SibSp\"]) & \n",
    "                               (concatDf[\"Parch\"]== concatDf.iloc[i][\"Parch\"]) & \n",
    "                               (concatDf[\"Pclass\"]== concatDf.iloc[i][\"Pclass\"])].median()\n",
    "    age_median = concatDf[\"Age\"].median()\n",
    "    if not np.isnan(age_pred):\n",
    "        concatDf[\"Age\"].iloc[i] = age_pred\n",
    "    else:\n",
    "        concatDf[\"Age\"].iloc[i] = age_median"
   ]
  },
  {
   "cell_type": "code",
   "execution_count": 55,
   "id": "6904c85d",
   "metadata": {},
   "outputs": [
    {
     "data": {
      "text/html": [
       "<div>\n",
       "<style scoped>\n",
       "    .dataframe tbody tr th:only-of-type {\n",
       "        vertical-align: middle;\n",
       "    }\n",
       "\n",
       "    .dataframe tbody tr th {\n",
       "        vertical-align: top;\n",
       "    }\n",
       "\n",
       "    .dataframe thead th {\n",
       "        text-align: right;\n",
       "    }\n",
       "</style>\n",
       "<table border=\"1\" class=\"dataframe\">\n",
       "  <thead>\n",
       "    <tr style=\"text-align: right;\">\n",
       "      <th></th>\n",
       "      <th>PassengerId</th>\n",
       "      <th>Survived</th>\n",
       "      <th>Pclass</th>\n",
       "      <th>Name</th>\n",
       "      <th>Sex</th>\n",
       "      <th>Age</th>\n",
       "      <th>SibSp</th>\n",
       "      <th>Parch</th>\n",
       "      <th>Ticket</th>\n",
       "      <th>Fare</th>\n",
       "      <th>Embarked</th>\n",
       "    </tr>\n",
       "  </thead>\n",
       "  <tbody>\n",
       "  </tbody>\n",
       "</table>\n",
       "</div>"
      ],
      "text/plain": [
       "Empty DataFrame\n",
       "Columns: [PassengerId, Survived, Pclass, Name, Sex, Age, SibSp, Parch, Ticket, Fare, Embarked]\n",
       "Index: []"
      ]
     },
     "execution_count": 55,
     "metadata": {},
     "output_type": "execute_result"
    }
   ],
   "source": [
    "concatDf[concatDf[\"Age\"].isnull()]"
   ]
  },
  {
   "cell_type": "markdown",
   "id": "741d59ee",
   "metadata": {},
   "source": [
    "# Comment:\n",
    "1. We fill all age nan values"
   ]
  },
  {
   "cell_type": "code",
   "execution_count": 56,
   "id": "2e1f53ad",
   "metadata": {},
   "outputs": [
    {
     "data": {
      "text/html": [
       "<div>\n",
       "<style scoped>\n",
       "    .dataframe tbody tr th:only-of-type {\n",
       "        vertical-align: middle;\n",
       "    }\n",
       "\n",
       "    .dataframe tbody tr th {\n",
       "        vertical-align: top;\n",
       "    }\n",
       "\n",
       "    .dataframe thead th {\n",
       "        text-align: right;\n",
       "    }\n",
       "</style>\n",
       "<table border=\"1\" class=\"dataframe\">\n",
       "  <thead>\n",
       "    <tr style=\"text-align: right;\">\n",
       "      <th></th>\n",
       "      <th>PassengerId</th>\n",
       "      <th>Survived</th>\n",
       "      <th>Pclass</th>\n",
       "      <th>Name</th>\n",
       "      <th>Sex</th>\n",
       "      <th>Age</th>\n",
       "      <th>SibSp</th>\n",
       "      <th>Parch</th>\n",
       "      <th>Ticket</th>\n",
       "      <th>Fare</th>\n",
       "      <th>Embarked</th>\n",
       "    </tr>\n",
       "  </thead>\n",
       "  <tbody>\n",
       "    <tr>\n",
       "      <th>0</th>\n",
       "      <td>1</td>\n",
       "      <td>0.0</td>\n",
       "      <td>3</td>\n",
       "      <td>Braund, Mr. Owen Harris</td>\n",
       "      <td>1</td>\n",
       "      <td>22.0</td>\n",
       "      <td>1</td>\n",
       "      <td>0</td>\n",
       "      <td>A/5 21171</td>\n",
       "      <td>7.2500</td>\n",
       "      <td>S</td>\n",
       "    </tr>\n",
       "    <tr>\n",
       "      <th>1</th>\n",
       "      <td>2</td>\n",
       "      <td>1.0</td>\n",
       "      <td>1</td>\n",
       "      <td>Cumings, Mrs. John Bradley (Florence Briggs Th...</td>\n",
       "      <td>0</td>\n",
       "      <td>38.0</td>\n",
       "      <td>1</td>\n",
       "      <td>0</td>\n",
       "      <td>PC 17599</td>\n",
       "      <td>71.2833</td>\n",
       "      <td>C</td>\n",
       "    </tr>\n",
       "    <tr>\n",
       "      <th>2</th>\n",
       "      <td>3</td>\n",
       "      <td>1.0</td>\n",
       "      <td>3</td>\n",
       "      <td>Heikkinen, Miss. Laina</td>\n",
       "      <td>0</td>\n",
       "      <td>26.0</td>\n",
       "      <td>0</td>\n",
       "      <td>0</td>\n",
       "      <td>STON/O2. 3101282</td>\n",
       "      <td>7.9250</td>\n",
       "      <td>S</td>\n",
       "    </tr>\n",
       "    <tr>\n",
       "      <th>3</th>\n",
       "      <td>4</td>\n",
       "      <td>1.0</td>\n",
       "      <td>1</td>\n",
       "      <td>Futrelle, Mrs. Jacques Heath (Lily May Peel)</td>\n",
       "      <td>0</td>\n",
       "      <td>35.0</td>\n",
       "      <td>1</td>\n",
       "      <td>0</td>\n",
       "      <td>113803</td>\n",
       "      <td>53.1000</td>\n",
       "      <td>S</td>\n",
       "    </tr>\n",
       "    <tr>\n",
       "      <th>4</th>\n",
       "      <td>5</td>\n",
       "      <td>0.0</td>\n",
       "      <td>3</td>\n",
       "      <td>Allen, Mr. William Henry</td>\n",
       "      <td>1</td>\n",
       "      <td>35.0</td>\n",
       "      <td>0</td>\n",
       "      <td>0</td>\n",
       "      <td>373450</td>\n",
       "      <td>8.0500</td>\n",
       "      <td>S</td>\n",
       "    </tr>\n",
       "    <tr>\n",
       "      <th>...</th>\n",
       "      <td>...</td>\n",
       "      <td>...</td>\n",
       "      <td>...</td>\n",
       "      <td>...</td>\n",
       "      <td>...</td>\n",
       "      <td>...</td>\n",
       "      <td>...</td>\n",
       "      <td>...</td>\n",
       "      <td>...</td>\n",
       "      <td>...</td>\n",
       "      <td>...</td>\n",
       "    </tr>\n",
       "    <tr>\n",
       "      <th>1294</th>\n",
       "      <td>1305</td>\n",
       "      <td>NaN</td>\n",
       "      <td>3</td>\n",
       "      <td>Spector, Mr. Woolf</td>\n",
       "      <td>1</td>\n",
       "      <td>25.0</td>\n",
       "      <td>0</td>\n",
       "      <td>0</td>\n",
       "      <td>A.5. 3236</td>\n",
       "      <td>8.0500</td>\n",
       "      <td>S</td>\n",
       "    </tr>\n",
       "    <tr>\n",
       "      <th>1295</th>\n",
       "      <td>1306</td>\n",
       "      <td>NaN</td>\n",
       "      <td>1</td>\n",
       "      <td>Oliva y Ocana, Dona. Fermina</td>\n",
       "      <td>0</td>\n",
       "      <td>39.0</td>\n",
       "      <td>0</td>\n",
       "      <td>0</td>\n",
       "      <td>PC 17758</td>\n",
       "      <td>108.9000</td>\n",
       "      <td>C</td>\n",
       "    </tr>\n",
       "    <tr>\n",
       "      <th>1296</th>\n",
       "      <td>1307</td>\n",
       "      <td>NaN</td>\n",
       "      <td>3</td>\n",
       "      <td>Saether, Mr. Simon Sivertsen</td>\n",
       "      <td>1</td>\n",
       "      <td>38.5</td>\n",
       "      <td>0</td>\n",
       "      <td>0</td>\n",
       "      <td>SOTON/O.Q. 3101262</td>\n",
       "      <td>7.2500</td>\n",
       "      <td>S</td>\n",
       "    </tr>\n",
       "    <tr>\n",
       "      <th>1297</th>\n",
       "      <td>1308</td>\n",
       "      <td>NaN</td>\n",
       "      <td>3</td>\n",
       "      <td>Ware, Mr. Frederick</td>\n",
       "      <td>1</td>\n",
       "      <td>25.0</td>\n",
       "      <td>0</td>\n",
       "      <td>0</td>\n",
       "      <td>359309</td>\n",
       "      <td>8.0500</td>\n",
       "      <td>S</td>\n",
       "    </tr>\n",
       "    <tr>\n",
       "      <th>1298</th>\n",
       "      <td>1309</td>\n",
       "      <td>NaN</td>\n",
       "      <td>3</td>\n",
       "      <td>Peter, Master. Michael J</td>\n",
       "      <td>1</td>\n",
       "      <td>16.0</td>\n",
       "      <td>1</td>\n",
       "      <td>1</td>\n",
       "      <td>2668</td>\n",
       "      <td>22.3583</td>\n",
       "      <td>C</td>\n",
       "    </tr>\n",
       "  </tbody>\n",
       "</table>\n",
       "<p>1299 rows × 11 columns</p>\n",
       "</div>"
      ],
      "text/plain": [
       "      PassengerId  Survived  Pclass  \\\n",
       "0               1       0.0       3   \n",
       "1               2       1.0       1   \n",
       "2               3       1.0       3   \n",
       "3               4       1.0       1   \n",
       "4               5       0.0       3   \n",
       "...           ...       ...     ...   \n",
       "1294         1305       NaN       3   \n",
       "1295         1306       NaN       1   \n",
       "1296         1307       NaN       3   \n",
       "1297         1308       NaN       3   \n",
       "1298         1309       NaN       3   \n",
       "\n",
       "                                                   Name  Sex   Age  SibSp  \\\n",
       "0                               Braund, Mr. Owen Harris    1  22.0      1   \n",
       "1     Cumings, Mrs. John Bradley (Florence Briggs Th...    0  38.0      1   \n",
       "2                                Heikkinen, Miss. Laina    0  26.0      0   \n",
       "3          Futrelle, Mrs. Jacques Heath (Lily May Peel)    0  35.0      1   \n",
       "4                              Allen, Mr. William Henry    1  35.0      0   \n",
       "...                                                 ...  ...   ...    ...   \n",
       "1294                                 Spector, Mr. Woolf    1  25.0      0   \n",
       "1295                       Oliva y Ocana, Dona. Fermina    0  39.0      0   \n",
       "1296                       Saether, Mr. Simon Sivertsen    1  38.5      0   \n",
       "1297                                Ware, Mr. Frederick    1  25.0      0   \n",
       "1298                           Peter, Master. Michael J    1  16.0      1   \n",
       "\n",
       "      Parch              Ticket      Fare Embarked  \n",
       "0         0           A/5 21171    7.2500        S  \n",
       "1         0            PC 17599   71.2833        C  \n",
       "2         0    STON/O2. 3101282    7.9250        S  \n",
       "3         0              113803   53.1000        S  \n",
       "4         0              373450    8.0500        S  \n",
       "...     ...                 ...       ...      ...  \n",
       "1294      0           A.5. 3236    8.0500        S  \n",
       "1295      0            PC 17758  108.9000        C  \n",
       "1296      0  SOTON/O.Q. 3101262    7.2500        S  \n",
       "1297      0              359309    8.0500        S  \n",
       "1298      1                2668   22.3583        C  \n",
       "\n",
       "[1299 rows x 11 columns]"
      ]
     },
     "execution_count": 56,
     "metadata": {},
     "output_type": "execute_result"
    }
   ],
   "source": [
    "concatDf"
   ]
  },
  {
   "cell_type": "code",
   "execution_count": 57,
   "id": "318a3608",
   "metadata": {},
   "outputs": [
    {
     "name": "stdout",
     "output_type": "stream",
     "text": [
      "<class 'pandas.core.frame.DataFrame'>\n",
      "RangeIndex: 1299 entries, 0 to 1298\n",
      "Data columns (total 11 columns):\n",
      " #   Column       Non-Null Count  Dtype  \n",
      "---  ------       --------------  -----  \n",
      " 0   PassengerId  1299 non-null   int64  \n",
      " 1   Survived     881 non-null    float64\n",
      " 2   Pclass       1299 non-null   int64  \n",
      " 3   Name         1299 non-null   object \n",
      " 4   Sex          1299 non-null   int64  \n",
      " 5   Age          1299 non-null   float64\n",
      " 6   SibSp        1299 non-null   int64  \n",
      " 7   Parch        1299 non-null   int64  \n",
      " 8   Ticket       1299 non-null   object \n",
      " 9   Fare         1299 non-null   float64\n",
      " 10  Embarked     1299 non-null   object \n",
      "dtypes: float64(3), int64(5), object(3)\n",
      "memory usage: 111.8+ KB\n"
     ]
    }
   ],
   "source": [
    "concatDf.info()"
   ]
  },
  {
   "cell_type": "code",
   "execution_count": 58,
   "id": "7f3222e3",
   "metadata": {},
   "outputs": [
    {
     "data": {
      "text/plain": [
       "PassengerId      0\n",
       "Survived       418\n",
       "Pclass           0\n",
       "Name             0\n",
       "Sex              0\n",
       "Age              0\n",
       "SibSp            0\n",
       "Parch            0\n",
       "Ticket           0\n",
       "Fare             0\n",
       "Embarked         0\n",
       "dtype: int64"
      ]
     },
     "execution_count": 58,
     "metadata": {},
     "output_type": "execute_result"
    }
   ],
   "source": [
    "concatDf.isnull().sum()"
   ]
  },
  {
   "cell_type": "markdown",
   "id": "fef8c729",
   "metadata": {},
   "source": [
    "# Conclusion:\n",
    "1. First of all, We handled with dataset and made some changes\n",
    "2. We separeted dataset between categorical and numerical\n",
    "3. If the dataset includes outlier values We detected these.\n",
    "4. We did some visualization studies to better understand the dataset.. \n",
    "5. Finding the missing value and filling this properly\n",
    "    * We separated the age value because there were some problems with that.\n",
    "6. We correlated values with each other and made decisions for filling or dropping.\n",
    "7. We fill the nan value of age with the median values of SibSp, Parch, Pclass.\n",
    "8. Survived feature has got nan value and it comes from test data set. We did not fill in these values because We will use in the machine-learning process"
   ]
  },
  {
   "cell_type": "markdown",
   "id": "0b101e58",
   "metadata": {},
   "source": [
    "### This study was done by Mehmet Ali YILMAZ."
   ]
  }
 ],
 "metadata": {
  "kernelspec": {
   "display_name": "Python 3 (ipykernel)",
   "language": "python",
   "name": "python3"
  },
  "language_info": {
   "codemirror_mode": {
    "name": "ipython",
    "version": 3
   },
   "file_extension": ".py",
   "mimetype": "text/x-python",
   "name": "python",
   "nbconvert_exporter": "python",
   "pygments_lexer": "ipython3",
   "version": "3.9.12"
  }
 },
 "nbformat": 4,
 "nbformat_minor": 5
}
